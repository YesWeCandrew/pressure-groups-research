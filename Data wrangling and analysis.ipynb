{
 "cells": [
  {
   "cell_type": "markdown",
   "id": "prescribed-second",
   "metadata": {},
   "source": [
    "# Importing Python Libraries"
   ]
  },
  {
   "cell_type": "code",
   "execution_count": 1,
   "id": "selected-posting",
   "metadata": {},
   "outputs": [],
   "source": [
    "# Standard anaconda Python imports\n",
    "import sqlite3\n",
    "import pandas as pd\n",
    "import numpy as np\n",
    "import seaborn as sns\n",
    "import matplotlib.pyplot as plt\n",
    "from scipy import stats\n",
    "import matplotlib.patches as mpatches\n",
    "from sklearn.model_selection import train_test_split"
   ]
  },
  {
   "cell_type": "code",
   "execution_count": 2,
   "id": "shared-berlin",
   "metadata": {},
   "outputs": [],
   "source": [
    "# Additional imports to process the request to ABN lookup service. Don't need to import if using the files in /data\n",
    "import urllib                        # Import from https://pypi.org/project/urllib3/\n",
    "import xml.etree.ElementTree as ET   # Import from https://pypi.org/project/elementpath/"
   ]
  },
  {
   "cell_type": "code",
   "execution_count": 3,
   "id": "naked-montreal",
   "metadata": {},
   "outputs": [],
   "source": [
    "# in order to perform statistical analysis proving statistical significance of growth rates.\n",
    "import pymannkendall as mk           # Import from https://pypi.org/project/pymannkendall/"
   ]
  },
  {
   "cell_type": "code",
   "execution_count": 4,
   "id": "weighted-pierre",
   "metadata": {},
   "outputs": [],
   "source": [
    "# Setting the colour pallete so the graphs look pretty\n",
    "sns.set_palette(sns.color_palette(\"Spectral\", 8))\n",
    "# ignoring warnings\n",
    "import warnings\n",
    "warnings.filterwarnings('ignore')"
   ]
  },
  {
   "cell_type": "markdown",
   "id": "improving-badge",
   "metadata": {},
   "source": [
    "# Skip All The Preprocessing and Just Use the Data\n",
    "\n",
    "Importing the AIS data from Excel takes a long time, as does using the ABN lookup, so if you want to skip those steps and just use the data run the block below and skip to analysis. The code shows how these files are generated.\n",
    "\n",
    "Note that the ABN lookup data was partially replaced by manual corrections from the Excel of group ABNs (DOAA 2012). This was manually put together, so you won't find code explaining how it was made. I used the ABN lookup list and the ABNs in the DOAA and crossreferenced them. If they were different, I usually used the ABN in the DOAA, unless the DOAA ABN was incorrect or missing and the ABN Lookup found the correct ABN."
   ]
  },
  {
   "cell_type": "code",
   "execution_count": 33,
   "id": "august-dining",
   "metadata": {},
   "outputs": [],
   "source": [
    "# Reading the various ais data. Column names have been standardised and useless data has been dropped\n",
    "df_ais19 = pd.read_csv('data/df_ais19.csv')\n",
    "df_ais18 = pd.read_csv('data/df_ais18.csv')\n",
    "df_ais17 = pd.read_csv('data/df_ais17.csv')\n",
    "df_ais16 = pd.read_csv('data/df_ais16.csv')\n",
    "df_ais15 = pd.read_csv('data/df_ais15.csv')\n",
    "df_ais14 = pd.read_csv('data/df_ais14.csv')\n",
    "df_ais13 = pd.read_csv('data/df_ais13.csv')\n",
    "\n",
    "# This CSV contains all the AIS data of all non-profit groups.\n",
    "df_ais   = pd.read_csv('data/df_ais.csv')\n",
    "\n",
    "# This CSV contains the Interest Group ABN data pulled directly from the ABN Lookup service.\n",
    "# It was replaced by the manually compiled csv that uses ABN Lookup and the DOAA 2012 data.\n",
    "df_abn   = pd.read_csv('data/abns.csv', index_col=0)\n",
    "\n",
    "# The list of interest groups from Wattle, combined with their ABNs.\n",
    "df_ig_abn_unclean = pd.read_csv('data/List of Interest Groups with ABN.csv', index_col = 'uniqid')\n",
    "\n",
    "# Same as above, but with groups that are missing an ABN dropped from the data frame.\n",
    "df_ig_abn  = pd.read_csv('data/df_ig_abn_clean.csv', index_col = 'uniqid')\n",
    "\n",
    "# Contains all the AIS data available on all of the groups in the IG list\n",
    "df_unclean = pd.read_csv('data/IG Over Time.csv',index_col=0)\n",
    "\n",
    "# Same as above, but removes outliers and IGs with less than 7 years of data. Is the main analysis table\n",
    "df = pd.read_csv('data/IG Over Time Clean.csv',index_col=0)"
   ]
  },
  {
   "cell_type": "markdown",
   "id": "grand-complexity",
   "metadata": {},
   "source": [
    "# Getting AIS Data From Excel"
   ]
  },
  {
   "cell_type": "markdown",
   "id": "portuguese-purple",
   "metadata": {},
   "source": [
    "### Importing all the ACNC AIS yearly excels"
   ]
  },
  {
   "cell_type": "markdown",
   "id": "asian-hughes",
   "metadata": {},
   "source": [
    "All AIS data downloaded from data.gov.au:\n",
    "\n",
    "https://data.gov.au/search?organisation=Australian%20Charities%20and%20Not-for-profits%20Commission%20%28ACNC%29&q=Annual%20Information%20Statement\n",
    "\n"
   ]
  },
  {
   "cell_type": "code",
   "execution_count": null,
   "id": "hydraulic-cancellation",
   "metadata": {},
   "outputs": [],
   "source": [
    "# 2013 DF\n",
    "df_ais13 = pd.read_excel('data/datadotgov_ais13.xlsx')"
   ]
  },
  {
   "cell_type": "code",
   "execution_count": null,
   "id": "sporting-hughes",
   "metadata": {},
   "outputs": [],
   "source": [
    "df_ais13 = df_ais13[['ABN',\n",
    "                'Charity_Name',\n",
    "                'Main_Activity',\n",
    "                'Charity_Size',\n",
    "                'Staff___Full_time',\n",
    "                'Staff___Part_time',\n",
    "                'Staff___Volunteers']]"
   ]
  },
  {
   "cell_type": "code",
   "execution_count": null,
   "id": "secret-bouquet",
   "metadata": {},
   "outputs": [],
   "source": [
    "# 2014 DF\n",
    "df_ais14 = pd.read_excel('data/datadotgov_ais14.xlsx')"
   ]
  },
  {
   "cell_type": "code",
   "execution_count": null,
   "id": "corporate-kitchen",
   "metadata": {},
   "outputs": [],
   "source": [
    "df_ais14 = df_ais14[['ABN',\n",
    "                'Charity_Name',\n",
    "                'Main_Activity',\n",
    "                'Charity_Size',\n",
    "                'Staff___Full_time',\n",
    "                'Staff___Part_time',\n",
    "                'Staff___Volunteers',\n",
    "                'Staff___Casual',\n",
    "                'Government_grants',\n",
    "                'Donations_and_bequests',\n",
    "                'Other_income',\n",
    "                'Total_revenue',\n",
    "                'All_other_revenue',\n",
    "                'Total_gross_income',\n",
    "                'Employee_expenses',\n",
    "                'Interest_expenses',\n",
    "                'Grants_and_donations_made_for_use_in_Australia',\n",
    "                'Grants_and_donations_made_for_use_outside_Australia',\n",
    "                'All_other_expenses',\n",
    "                'Total_expenses',\n",
    "                'Net_surplus_deficit',\n",
    "                'Total_current_assets',\n",
    "                'Other_non_current_assets',\n",
    "                'Total_non_current_assets',\n",
    "                'Total_assets',\n",
    "                'Total_current_liabilities',\n",
    "                'Total_non_current_liabilities',\n",
    "                'Total_liabilities',\n",
    "                'Net_assets_liabilities']]"
   ]
  },
  {
   "cell_type": "code",
   "execution_count": null,
   "id": "detailed-unknown",
   "metadata": {},
   "outputs": [],
   "source": [
    "# 2015 DF\n",
    "df_ais15 = pd.read_excel('data/datadotgov_ais15.xlsx')"
   ]
  },
  {
   "cell_type": "code",
   "execution_count": null,
   "id": "excellent-illustration",
   "metadata": {},
   "outputs": [],
   "source": [
    "df_ais15 = df_ais15[['ABN',\n",
    "                'Charity_Name',\n",
    "                'Main_Activity',\n",
    "                'Charity_Size',\n",
    "                'Staff_Full_time',\n",
    "                'Staff___Part_time',\n",
    "                'Staff_Volunteers',\n",
    "                'Staff___Casual',\n",
    "                'Government_grants',\n",
    "                'Donations_and_bequests',\n",
    "                'Other_income',\n",
    "                'Total_revenue',\n",
    "                'All_other_revenue',\n",
    "                'Total_gross_income',\n",
    "                'Employee_expenses',\n",
    "                'Interest_expenses',\n",
    "                'Grants_and_donations_made_for_use_in_Australia',\n",
    "                'Grants_and_donations_made_for_use_outside_Australia',\n",
    "                'All_other_expenses',\n",
    "                'Total_expenses',\n",
    "                'Net_surplus_deficit',\n",
    "                'Total_current_assets',\n",
    "                'Other_non_current_assets',\n",
    "                'Total_non_current_assets',\n",
    "                'Total_assets',\n",
    "                'Total_current_liabilities',\n",
    "                'Total_non_current_liabilities',\n",
    "                'Total_liabilities',\n",
    "                'Net_assets_liabilities']]"
   ]
  },
  {
   "cell_type": "code",
   "execution_count": null,
   "id": "reflected-amazon",
   "metadata": {},
   "outputs": [],
   "source": [
    "# 2016 DF\n",
    "df_ais16 = pd.read_excel('data/datadotgov_ais16.xlsx')"
   ]
  },
  {
   "cell_type": "code",
   "execution_count": null,
   "id": "passing-uzbekistan",
   "metadata": {},
   "outputs": [],
   "source": [
    "df_ais16 = df_ais16[['ABN',\n",
    "                'Charity Name',\n",
    "                'Main Activity',\n",
    "                'Charity Size',\n",
    "                'Staff Full time',\n",
    "                'Staff___Part_time',\n",
    "                'Staff___Casual',\n",
    "                'Staff Volunteers',\n",
    "                'Government grants',\n",
    "                'Donations and bequests',\n",
    "                'Other income',\n",
    "                'Total revenue',\n",
    "                'All other revenue',\n",
    "                'Total gross income',\n",
    "                'Employee expenses',\n",
    "                'Interest expenses',\n",
    "                'Grants and donations made for use in Australia',\n",
    "                'Grants and donations made for use outside Australia',\n",
    "                'All other expenses',\n",
    "                'Total expenses',\n",
    "                'Net surplus/deficit',\n",
    "                'Total current assets',\n",
    "                'Other non-current assets',\n",
    "                'Total non-current liabilities',\n",
    "                'Total assets',\n",
    "                'Total current liabilities',\n",
    "                'Total non-current liabilities',\n",
    "                'Total liabilities',\n",
    "                'Net assets/liabilities']]"
   ]
  },
  {
   "cell_type": "code",
   "execution_count": null,
   "id": "italian-edinburgh",
   "metadata": {},
   "outputs": [],
   "source": [
    "# 2017 DF\n",
    "df_ais17 = pd.read_excel('data/datadotgov_ais17.xlsx')"
   ]
  },
  {
   "cell_type": "code",
   "execution_count": null,
   "id": "molecular-paper",
   "metadata": {},
   "outputs": [],
   "source": [
    "df_ais17 = df_ais17[['abn',\n",
    "                     'charity name',\n",
    "                     'main activity',\n",
    "                     'charity size',\n",
    "                     'staff - full time',\n",
    "                     'staff - part time',\n",
    "                     'staff - casual',\n",
    "                     'total full time equivalent staff',\n",
    "                     'staff - volunteers',\n",
    "                     'revenue from government',\n",
    "                     'donations and bequests',\n",
    "                     'other income',\n",
    "                     'total revenue',\n",
    "                     'all other revenue',\n",
    "                     'total gross income',\n",
    "                     'employee expenses',\n",
    "                     'interest expenses',\n",
    "                     'grants and donations made for use in Australia',\n",
    "                     'grants and donations made for use outside Australia',\n",
    "                     'all other expenses',\n",
    "                     'total expenses',\n",
    "                     'net surplus/deficit',\n",
    "                     'total current assets',\n",
    "                     'other non-current assets',\n",
    "                     'total non-current liabilities',\n",
    "                     'total assets',\n",
    "                     'total current liabilities',\n",
    "                     'total non-current liabilities',\n",
    "                     'total liabilities',\n",
    "                     'net assets/liabilities']]"
   ]
  },
  {
   "cell_type": "code",
   "execution_count": null,
   "id": "inclusive-florida",
   "metadata": {},
   "outputs": [],
   "source": [
    "# 2018 DF\n",
    "df_ais18 = pd.read_excel('data/datadotgov_ais18.xlsx')"
   ]
  },
  {
   "cell_type": "code",
   "execution_count": null,
   "id": "thorough-works",
   "metadata": {},
   "outputs": [],
   "source": [
    "df_ais18 = df_ais18[['abn',\n",
    "                     'charity name',\n",
    "                     'main activity',\n",
    "                     'charity size',\n",
    "                     'staff - full time',\n",
    "                     'staff - part time',\n",
    "                     'staff - casual',\n",
    "                     'total full time equivalent staff',\n",
    "                     'staff - volunteers',\n",
    "                     'revenue from government',\n",
    "                     'donations and bequests',\n",
    "                     'other income',\n",
    "                     'total revenue',\n",
    "                     'all other revenue',\n",
    "                     'total gross income',\n",
    "                     'employee expenses',\n",
    "                     'interest expenses',\n",
    "                     'grants and donations made for use in Australia',\n",
    "                     'grants and donations made for use outside Australia',\n",
    "                     'all other expenses',\n",
    "                     'total expenses',\n",
    "                     'net surplus/deficit',\n",
    "                     'total current assets',\n",
    "                     'other non-current assets',\n",
    "                     'total non-current liabilities',\n",
    "                     'total assets',\n",
    "                     'total current liabilities',\n",
    "                     'total non-current liabilities',\n",
    "                     'total liabilities',\n",
    "                     'net assets/liabilities']]"
   ]
  },
  {
   "cell_type": "code",
   "execution_count": null,
   "id": "advisory-reconstruction",
   "metadata": {},
   "outputs": [],
   "source": [
    "# 2019 DF\n",
    "df_ais19 = pd.read_excel('data/datadotgov_ais19.xlsx')"
   ]
  },
  {
   "cell_type": "code",
   "execution_count": null,
   "id": "violent-filename",
   "metadata": {},
   "outputs": [],
   "source": [
    "df_ais19 = df_ais19[['abn',\n",
    "                     'charity name',\n",
    "                     'main activity',\n",
    "                     'charity size',\n",
    "                     'staff - full time',\n",
    "                     'staff - part time',\n",
    "                     'staff - casual',\n",
    "                     'total full time equivalent staff',\n",
    "                     'staff - volunteers',\n",
    "                     'revenue from government',\n",
    "                     'donations and bequests',\n",
    "                     'other income',\n",
    "                     'total revenue',\n",
    "                     'all other revenue',\n",
    "                     'total gross income',\n",
    "                     'employee expenses',\n",
    "                     'interest expenses',\n",
    "                     'grants and donations made for use in Australia',\n",
    "                     'grants and donations made for use outside Australia',\n",
    "                     'all other expenses',\n",
    "                     'total expenses',\n",
    "                     'net surplus/deficit',\n",
    "                     'total current assets',\n",
    "                     'other non-current assets',\n",
    "                     'total non-current liabilities',\n",
    "                     'total assets',\n",
    "                     'total current liabilities',\n",
    "                     'total non-current liabilities',\n",
    "                     'total liabilities',\n",
    "                     'net assets/liabilities']]"
   ]
  },
  {
   "cell_type": "markdown",
   "id": "monetary-shuttle",
   "metadata": {},
   "source": [
    "### Pre Processing"
   ]
  },
  {
   "cell_type": "code",
   "execution_count": null,
   "id": "flexible-musician",
   "metadata": {},
   "outputs": [],
   "source": [
    "# Renamimg columns for consistency\n",
    "# Left hand side contains all names for the variable in the AISs. Right Hand Side contains name in final dataframe\n",
    "col_names = {'abn':'ABN',\n",
    "             'Charity_Name':'Name',\n",
    "             'charity name':'Name',\n",
    "             'Charity Name':'Name',\n",
    "             'Main Activity':'Main activity',\n",
    "             'Charity Size':'Charity size',\n",
    "             'Staff Full time':'Full time staff',\n",
    "             'Main_Activity':'Main activity',\n",
    "             'main_activity':'Main activity',\n",
    "             'Main_activity':'Main activity',\n",
    "             'main activity':'Main activity',\n",
    "             'Charity_Size':'Charity size',\n",
    "             'charity size':'Charity size',\n",
    "             'Charity_size' : 'Charity size',\n",
    "             'Staff___Full_time':'Full time staff',\n",
    "             'Staff___Part_time':'Part time staff',\n",
    "             'Staff___Volunteers':'Volunteers',\n",
    "             'Staff Volunteers':'Volunteers',\n",
    "             'Staff___Casual':'Casual staff',\n",
    "             'Staff_Volunteers':'Volunteers',\n",
    "             'Staff_Full_time':'Full time staff',\n",
    "             'staff - full time':'Full time staff',\n",
    "             'staff - part time':'Part time staff',\n",
    "             'staff - casual':'Casual staff',\n",
    "             'staff - volunteers':'Volunteers',\n",
    "             'Government grants': 'Revenue from government',\n",
    "             'Government_grants' : 'Revenue from government',\n",
    "             'revenue from government':'Revenue from government',\n",
    "             'Donations and bequests': 'Donations and bequests',\n",
    "             'Other income': 'Other income',\n",
    "             'Total revenue': 'Total revenue',\n",
    "             'All other revenue': 'All other revenue',\n",
    "             'Total gross income': 'Total gross income',\n",
    "             'Employee expenses': 'Employee expenses',\n",
    "             'Interest expenses': 'Interest expenses',\n",
    "             'Grants and donations made for use in Australia': 'Grants and donations made for use in australia',\n",
    "             'Grants and donations made for use outside Australia': 'Grants and donations made for use outside australia',\n",
    "             'grants and donations made for use in Australia': 'Grants and donations made for use in australia',\n",
    "             'grants and donations made for use outside Australia':'Grants and donations made for use outside australia',\n",
    "             'All other expenses': 'All other expenses',\n",
    "             'Total expenses': 'Total expenses',\n",
    "             'Net surplus/deficit': 'Net surplus deficit',\n",
    "             'net surplus/deficit':'Net surplus deficit',\n",
    "             'Total current assets': 'Total current assets',\n",
    "             'Other non-current assets': 'Other non current assets',\n",
    "             'Total non-current liabilities': 'Total non current liabilities',\n",
    "             'Total assets': 'Total assets',\n",
    "             'Total current liabilities': 'Total current liabilities',\n",
    "             'Total liabilities': 'Total liabilities',\n",
    "             'net assets/liabilities' : 'Net assets liabilities',\n",
    "             'Net assets/liabilities': 'Net assets liabilities',\n",
    "             'total full time equivalent staff':'Total full time equivalent staff',\n",
    "             'donations and bequests':'Donations and bequests',\n",
    "             'other income':'Other income',\n",
    "             'total revenue':'Total revenue',\n",
    "             'all other revenue':'All other revenue',\n",
    "             'total gross income': 'Total gross income',\n",
    "             'employee expenses': 'Employee expenses',\n",
    "             'interest expenses': 'Interest expenses',\n",
    "             'all other expenses':'All other expenses',\n",
    "             'total expenses':'Total expenses',\n",
    "             'total current assets':'Total current assets',\n",
    "             'other non-current assets':'Other non current assets',\n",
    "             'total non-current liabilities':'Total non current liabilities',\n",
    "             'total assets':'Total assets',\n",
    "             'total current liabilities':'Total current liabilities',\n",
    "             'total non-current liabilities':'Total non current liabilities',\n",
    "             'total liabilities':'Total liabilities','Donations_and_bequests': 'Donations and bequests',\n",
    "             'Other_income': 'Other income',\n",
    "             'Total_revenue': 'Total revenue',\n",
    "             'All_other_revenue': 'All other revenue',\n",
    "             'Total_gross_income': 'Total gross income',\n",
    "             'Employee_expenses': 'Employee expenses',\n",
    "             'Interest_expenses': 'Interest expenses',\n",
    "             'Grants_and_donations_made_for_use_in_Australia': 'Grants and donations made for use in australia',\n",
    "             'Grants_and_donations_made_for_use_outside_Australia': 'Grants and donations made for use outside australia',\n",
    "             'All_other_expenses': 'All other expenses',\n",
    "             'Total_expenses': 'Total expenses',\n",
    "             'Net_surplus_deficit': 'Net surplus deficit',\n",
    "             'Total_current_assets': 'Total current assets',\n",
    "             'Other_non_current_assets': 'Other non current assets',\n",
    "             'Total_non_current_assets': 'Total non current assets',\n",
    "             'Total_assets': 'Total assets',\n",
    "             'Total_current_liabilities': 'Total current liabilities',\n",
    "             'Total_non_current_liabilities': 'Total non current liabilities',\n",
    "             'Total_liabilities': 'Total liabilities',\n",
    "             'Net_assets_liabilities': 'Net assets liabilities'}\n"
   ]
  },
  {
   "cell_type": "code",
   "execution_count": null,
   "id": "unlikely-trinity",
   "metadata": {},
   "outputs": [],
   "source": [
    "df_ais13.rename(columns=col_names, inplace=True)\n",
    "df_ais14.rename(columns=col_names, inplace=True)\n",
    "df_ais15.rename(columns=col_names, inplace=True)\n",
    "df_ais16.rename(columns=col_names, inplace=True)\n",
    "df_ais17.rename(columns=col_names, inplace=True)\n",
    "df_ais18.rename(columns=col_names, inplace=True)\n",
    "df_ais19.rename(columns=col_names, inplace=True)"
   ]
  },
  {
   "cell_type": "code",
   "execution_count": null,
   "id": "charitable-prospect",
   "metadata": {},
   "outputs": [],
   "source": [
    "# Exporting AIS to csvs with correct column names.\n",
    "df_ais13.to_csv(r'data/df_ais13.csv', index = False)\n",
    "df_ais14.to_csv(r'data/df_ais14.csv', index = False)\n",
    "df_ais15.to_csv(r'data/df_ais15.csv', index = False)\n",
    "df_ais16.to_csv(r'data/df_ais16.csv', index = False)\n",
    "df_ais17.to_csv(r'data/df_ais17.csv', index = False)\n",
    "df_ais18.to_csv(r'data/df_ais18.csv', index = False)\n",
    "df_ais19.to_csv(r'data/df_ais19.csv', index = False)"
   ]
  },
  {
   "cell_type": "markdown",
   "id": "future-protocol",
   "metadata": {},
   "source": [
    "### Further Tidying"
   ]
  },
  {
   "cell_type": "code",
   "execution_count": null,
   "id": "charitable-shannon",
   "metadata": {},
   "outputs": [],
   "source": [
    "# The 2014 data used plain text to collect number of volunteers, which needs to be changed to an integer.\n",
    "# I have chosen to use the middle value when given a range.\n",
    "# This may account for the lower variation and lower number of volunteers in 2014.\n",
    "\n",
    "Vol_replace = {'Volunteers':{'11TO50':'30',\n",
    "               '11-50':'30',\n",
    "               '011-50':'30',\n",
    "               '11 - 50':'30',\n",
    "               '11to50':'30',\n",
    "               '11-15':'13',\n",
    "               '1TO10':'6',\n",
    "               '1 -10':'6',\n",
    "               '5-11':'8',\n",
    "               '5-10':'8',\n",
    "               '1-10':'6',\n",
    "               '40+':'41',           \n",
    "               '51TO100':'76',\n",
    "               '51-100':'76',\n",
    "               '0TO50':'25',\n",
    "               '+100':'101',              \n",
    "               '101TO500':'301',\n",
    "               '101-500':'301',\n",
    "               '101 to 500':'301',\n",
    "               'Over 100':'100',\n",
    "               'OVER1000':'1001',\n",
    "               '501TO1000':'751',\n",
    "               '501-1000':'751'}}\n",
    "\n",
    "df_ais13.replace(Vol_replace, inplace = True)\n",
    "df_ais13['Volunteers'] = pd.to_numeric(df_ais13['Volunteers'],errors = 'coerce',downcast='integer').fillna(-1).astype(int)\n",
    "\n",
    "\n",
    "df_ais14.replace(Vol_replace, inplace = True)\n",
    "df_ais14['Volunteers'] = pd.to_numeric(df_ais14['Volunteers'],errors = 'coerce',downcast='integer').fillna(-1).astype(int)\n",
    "\n",
    "df_ais15.replace(Vol_replace, inplace = True)\n",
    "df_ais15['Volunteers'] = pd.to_numeric(df_ais15['Volunteers'],errors = 'coerce',downcast='integer').fillna(-1).astype(int)\n",
    "\n",
    "\n",
    "df_ais16.replace(Vol_replace, inplace = True)\n",
    "df_ais16['Volunteers'] = pd.to_numeric(df_ais16['Volunteers'],errors = 'coerce',downcast='integer').fillna(-1).astype(int)\n",
    "\n",
    "\n",
    "df_ais17.replace(Vol_replace, inplace = True)\n",
    "df_ais17['Volunteers'] = pd.to_numeric(df_ais17['Volunteers'],errors = 'coerce',downcast='integer').fillna(-1).astype(int)"
   ]
  },
  {
   "cell_type": "code",
   "execution_count": null,
   "id": "federal-somewhere",
   "metadata": {},
   "outputs": [],
   "source": [
    "df_ais13['Year'] = \"2013\"\n",
    "df_ais14['Year'] = \"2014\"\n",
    "df_ais15['Year'] = \"2015\"\n",
    "df_ais16['Year'] = \"2016\"\n",
    "df_ais17['Year'] = \"2017\"\n",
    "df_ais18['Year'] = \"2018\"\n",
    "df_ais19['Year'] = \"2019\""
   ]
  },
  {
   "cell_type": "code",
   "execution_count": null,
   "id": "collected-jaguar",
   "metadata": {
    "scrolled": false
   },
   "outputs": [],
   "source": [
    "df_ais = pd.concat([df_ais13,df_ais14,df_ais15,df_ais16,df_ais17,df_ais18,df_ais19])\n",
    "df_ais.drop(['Total non current liabilities','Total non current liabilities.1'], axis=1,inplace=True)\n",
    "df_ais.to_csv(r'data/df_ais.csv', index = False)"
   ]
  },
  {
   "cell_type": "markdown",
   "id": "ahead-shore",
   "metadata": {},
   "source": [
    "## Interest Groups List from Wattle"
   ]
  },
  {
   "cell_type": "markdown",
   "id": "experienced-sport",
   "metadata": {},
   "source": [
    "### Importing"
   ]
  },
  {
   "cell_type": "code",
   "execution_count": null,
   "id": "expected-vienna",
   "metadata": {},
   "outputs": [],
   "source": [
    "# Downloaded from list posted on Wattle\n",
    "df_ig = pd.read_csv('data/List of Australian Interest Groups.csv')\n",
    "df_ig.rename({'name':'Name'},axis =1, inplace=True)"
   ]
  },
  {
   "cell_type": "markdown",
   "id": "going-harassment",
   "metadata": {},
   "source": [
    "### Linking with ABN using Aus Gov. ABN Lookup\n",
    "This process automatically searches the group's name up using the Australian Government's ABN lookup service. Because this wasn't always accurate it was manually checked against the data from the DOAA in 2012. The ABNs used in the analysis are imported from ***List of Interest Groups with ABN.csv*** which was manually compiled using ABN lookup data and the DOAA 2012 data, so there is no point running the blocks below. I have kept them for reference."
   ]
  },
  {
   "cell_type": "code",
   "execution_count": null,
   "id": "decreased-document",
   "metadata": {
    "scrolled": true
   },
   "outputs": [],
   "source": [
    "# The ABN lookup \n",
    "\n",
    "# a API key for the Australian Government's ABN lookup service is required. This is free\n",
    "# https://abr.business.gov.au/Tools/WebServices\n",
    "# Once you have a key, replace the variable below.\n",
    "authenticationGuid = 'API-KEY-HERE-REPLACE-ME'\n",
    "\n",
    "def Clean(x):\n",
    "    # Input SQL Statement, outputs SQL statement in format for URL\n",
    "    x = x.replace('    ','')\n",
    "    x = x.replace('\\n','%20')\n",
    "    x = x.replace(' ','%20')\n",
    "    x = x.replace('%20*%20','*')\n",
    "    x = x.replace('\"', '%22')\n",
    "    return x\n",
    "\n",
    "def Decode(x):\n",
    "    # Input URL SQL result, output dictionary of results\n",
    "    x = x.decode(\"UTF-8\")\n",
    "    return x\n",
    "\n",
    "def ToURL(x):\n",
    "    url =   ('https://abr.business.gov.au/abrxmlsearchRPC/AbrXmlSearch.asmx/' +\n",
    "            'ABRSearchByNameAdvancedSimpleProtocol2017?name=' + \n",
    "             x + \n",
    "            '&postcode=''&legalName=''&tradingName=''&businessName=''&activeABNsOnly=' + \n",
    "            '&NSW=''&SA=''&ACT=''&VIC=''&WA=''&NT=''&QLD=''&TAS=''&limit=1&authenticationGuid=' + \n",
    "             authenticationGuid + \n",
    "            '&searchWidth=&minimumScore=&maxSearchResults=1')\n",
    "    return url\n",
    "\n",
    "def Search(x):\n",
    "    # From https://github.com/ABN-SFLookupTechnicalSupport\n",
    "    conn = urllib.request.urlopen(x)\n",
    "    returnedXML = conn.read()\n",
    "    f = open('output.xml', 'wb')\n",
    "    f.write(returnedXML)\n",
    "    f.close\n",
    "    return returnedXML\n",
    "\n",
    "def ToXML(x):\n",
    "    x = ET.fromstring(x)\n",
    "    return x\n",
    "\n",
    "def XMLToFirstABN(x):\n",
    "    if x[1][2].tag == '{http://abr.business.gov.au/ABRXMLSearchRPC/literalTypes}exception':\n",
    "        return float('NaN')\n",
    "    else:\n",
    "        abn  = x[1][3][2][0][0].text\n",
    "        stat = x[1][3][2][0][1].text\n",
    "        name = x[1][3][2][1][0].text\n",
    "        score = x[1][3][2][1][1].text\n",
    "        return (abn,stat,name,score)\n",
    "\n",
    "def SearchTermToABN(x):\n",
    "    return XMLToFirstABN(ToXML(Decode(Search(ToURL(Clean(x))))))\n"
   ]
  },
  {
   "cell_type": "code",
   "execution_count": null,
   "id": "stainless-butler",
   "metadata": {},
   "outputs": [],
   "source": [
    "IGs  = list(df_ig.Name)\n",
    "ABNs = []"
   ]
  },
  {
   "cell_type": "code",
   "execution_count": null,
   "id": "initial-reset",
   "metadata": {},
   "outputs": [],
   "source": [
    "for group in IGs[:300]:\n",
    "    ABNs.append(SearchTermToABN(group))"
   ]
  },
  {
   "cell_type": "code",
   "execution_count": null,
   "id": "former-buffalo",
   "metadata": {},
   "outputs": [],
   "source": [
    "for group in IGs[300:600]:\n",
    "    ABNs.append(SearchTermToABN(group))"
   ]
  },
  {
   "cell_type": "code",
   "execution_count": null,
   "id": "becoming-doctrine",
   "metadata": {},
   "outputs": [],
   "source": [
    "for group in IGs[600:900]:\n",
    "    ABNs.append(SearchTermToABN(group))"
   ]
  },
  {
   "cell_type": "code",
   "execution_count": null,
   "id": "golden-forward",
   "metadata": {},
   "outputs": [],
   "source": [
    "for group in IGs[900:1200]:\n",
    "    ABNs.append(SearchTermToABN(group))"
   ]
  },
  {
   "cell_type": "code",
   "execution_count": null,
   "id": "scenic-roulette",
   "metadata": {},
   "outputs": [],
   "source": [
    "for group in IGs[1200:]:\n",
    "    ABNs.append(SearchTermToABN(group))"
   ]
  },
  {
   "cell_type": "code",
   "execution_count": null,
   "id": "greenhouse-fancy",
   "metadata": {},
   "outputs": [],
   "source": [
    "df_abn = pd.DataFrame(ABNs, columns = ['ABN','ABN status','ABN lookup name','ABN lookup score'], dtype='float64')"
   ]
  },
  {
   "cell_type": "code",
   "execution_count": null,
   "id": "connected-letters",
   "metadata": {},
   "outputs": [],
   "source": [
    "df_abn.to_csv('data/abns.csv')"
   ]
  },
  {
   "cell_type": "markdown",
   "id": "prostate-marking",
   "metadata": {},
   "source": [
    "### Merging ABN Lookup with IG Data\n"
   ]
  },
  {
   "cell_type": "code",
   "execution_count": null,
   "id": "upset-majority",
   "metadata": {},
   "outputs": [],
   "source": [
    "df_ig_abn = pd.concat([df_ig,df_abn],axis = 1)\n",
    "df_ig_abn.set_index('uniqid', inplace=True)"
   ]
  },
  {
   "cell_type": "code",
   "execution_count": null,
   "id": "adjusted-plumbing",
   "metadata": {},
   "outputs": [],
   "source": [
    "# Corrections needed in the ABN Lookup Data that prompted the need for the use of DOAA data\n",
    "# Entering in beyond blue data that is missing:\n",
    "df_ig_abn.drop(753, inplace=True)\n",
    "beyondblue = pd.DataFrame([\n",
    "        (753,\n",
    "         'Beyondblue: The National Depression Initiative',\n",
    "         'Citizen group',\n",
    "         40,\n",
    "         2000,\n",
    "         'VIC',\n",
    "         '',\n",
    "         'disabled and health advocacy',\n",
    "         47094561887,\n",
    "         'Active',\n",
    "         'BEYOND BLUE AUSTRALIA PTY LTD',\n",
    "         100)],\n",
    "    columns = ['uniqid'] + list(df_ig_abn.columns))\n",
    "beyondblue.set_index('uniqid', inplace=True)\n",
    "\n",
    "# Adding in correct friends of the earth ABN - mismatched:\n",
    "df_ig_abn.drop(1062, inplace = True)\n",
    "fote = pd.DataFrame([\n",
    "    (1062, \n",
    "    'Friends of the Earth',\n",
    "    'Citizen group',\n",
    "    '',\n",
    "    1974,\n",
    "    'VIC',\n",
    "    '',\n",
    "    'public interest',\n",
    "    18110769501,\n",
    "    'Active',\n",
    "    'FRIENDS OF EARTH',\n",
    "    100)],\n",
    "    columns = ['uniqid'] + list(df_ig_abn.columns))\n",
    "fote.set_index('uniqid', inplace=True)\n",
    "\n",
    "# Adding in correct Research Australia ABN - mismatched:\n",
    "df_ig_abn.drop(1493, inplace = True)\n",
    "ra = pd.DataFrame([\n",
    "    (1493, \n",
    "    'Research Australia',\n",
    "    'Business association',\n",
    "    '6',\n",
    "    2001,\n",
    "    'VIC',\n",
    "    'professional scientific and technical activities',\n",
    "    'business organization',\n",
    "    28095324379,\n",
    "    'Active',\n",
    "    'RESEARCH AUSTRALIA LIMITED',\n",
    "    100)],\n",
    "    columns = ['uniqid'] + list(df_ig_abn.columns))\n",
    "ra.set_index('uniqid', inplace=True)\n",
    "\n",
    "\n",
    "# One other organisation not matched - Nikoninc\n",
    "\n",
    "# merging with rest of data set\n",
    "df_ig_abn_lookup = pd.concat([df_ig_abn,beyondblue,fote,ra])\n",
    "df_ig_abn_lookup.sort_index(inplace=True)\n",
    "\n",
    "# Exporting\n",
    "df_ig_abn_lookup.to_csv('data/ABN lookup list of interest groups.csv')"
   ]
  },
  {
   "cell_type": "markdown",
   "id": "suspended-gibson",
   "metadata": {},
   "source": [
    "# Importing Manually Compiled Interest Group ABN Data"
   ]
  },
  {
   "cell_type": "code",
   "execution_count": null,
   "id": "positive-evans",
   "metadata": {},
   "outputs": [],
   "source": [
    "df_ig_abn_unclean = pd.read_csv('data/List of Interest Groups with ABN.csv')\n",
    "df_ig_abn = df_ig_abn_unclean.set_index('uniqid')\n",
    "\n",
    "# Dropping rows without an ABN associated\n",
    "df_ig_abn.dropna(subset=['ABN'], inplace=True)\n",
    "df_ig_abn['ABN'] = df_ig_abn['ABN'].astype(int)"
   ]
  },
  {
   "cell_type": "code",
   "execution_count": null,
   "id": "sticky-outside",
   "metadata": {},
   "outputs": [],
   "source": [
    "df_ig_abn.to_csv('data/df_ig_abn_clean.csv')"
   ]
  },
  {
   "cell_type": "markdown",
   "id": "comfortable-least",
   "metadata": {},
   "source": [
    "# Using SQL to Merge the AIS data with Interest Group data"
   ]
  },
  {
   "cell_type": "code",
   "execution_count": null,
   "id": "negative-democracy",
   "metadata": {},
   "outputs": [],
   "source": [
    "cd 'data'"
   ]
  },
  {
   "cell_type": "code",
   "execution_count": null,
   "id": "victorian-gateway",
   "metadata": {},
   "outputs": [],
   "source": [
    "def create_connection(db_file):\n",
    "    \"\"\" create a database connection to a SQLite database \"\"\"\n",
    "    conn = None\n",
    "    try:\n",
    "        conn = sqlite3.connect(db_file)\n",
    "        print(sqlite3.version)\n",
    "    except Error as e:\n",
    "        print(e)\n",
    "    finally:\n",
    "        if conn:\n",
    "            conn.close()\n",
    "\n",
    "\n",
    "if __name__ == '__main__':\n",
    "    create_connection(r\"data/ig_ais.db\")"
   ]
  },
  {
   "cell_type": "code",
   "execution_count": null,
   "id": "better-eclipse",
   "metadata": {},
   "outputs": [],
   "source": [
    "cd .. "
   ]
  },
  {
   "cell_type": "code",
   "execution_count": null,
   "id": "pointed-silver",
   "metadata": {},
   "outputs": [],
   "source": [
    "conn = sqlite3.connect(r\"data/ig_ais.db\")\n",
    "cur = conn.cursor()\n",
    "conn.commit()"
   ]
  },
  {
   "cell_type": "code",
   "execution_count": null,
   "id": "decimal-rover",
   "metadata": {},
   "outputs": [],
   "source": [
    "# Functions\n",
    "def execute_sql(query):\n",
    "    # Select table and display\n",
    "    cur.execute(query)\n",
    "\n",
    "    # Fetches all the rows from the result of the query\n",
    "    rows = cur.fetchall()\n",
    "    \n",
    "    # Gets the column names for the table\n",
    "    colnames = [desc[0] for desc in cur.description]\n",
    "\n",
    "    # Converts into readable pandas dataframe\n",
    "    df_result = pd.DataFrame(rows, columns=colnames)\n",
    "    return df_result\n",
    "\n",
    "def execute(query):\n",
    "    cur.execute(query)"
   ]
  },
  {
   "cell_type": "code",
   "execution_count": null,
   "id": "abandoned-specification",
   "metadata": {},
   "outputs": [],
   "source": [
    "# Creating ig (Interest Group Table)\n",
    "execute(\"\"\"DROP TABLE IF EXISTS ig\"\"\")\n",
    "execute(\"\"\"CREATE TABLE ig \"\"\" + str(tuple(df_ig_abn.columns)))\n",
    "conn.commit()"
   ]
  },
  {
   "cell_type": "code",
   "execution_count": null,
   "id": "charming-egypt",
   "metadata": {},
   "outputs": [],
   "source": [
    "df_ig_abn.to_sql('ig',conn,if_exists='replace',index=False)"
   ]
  },
  {
   "cell_type": "code",
   "execution_count": null,
   "id": "running-motorcycle",
   "metadata": {},
   "outputs": [],
   "source": [
    "# Creating ais (AIS table)\n",
    "execute(\"\"\"DROP TABLE IF EXISTS ais\"\"\")\n",
    "execute(\"\"\"CREATE TABLE ais \"\"\" + str(tuple(df_ais.columns)))\n",
    "conn.commit()"
   ]
  },
  {
   "cell_type": "code",
   "execution_count": null,
   "id": "still-recommendation",
   "metadata": {},
   "outputs": [],
   "source": [
    "df_ais.to_sql('ais',conn,if_exists='replace',index=False)"
   ]
  },
  {
   "cell_type": "markdown",
   "id": "aquatic-decimal",
   "metadata": {},
   "source": [
    "### Dropping rows that aren't in both tables"
   ]
  },
  {
   "cell_type": "code",
   "execution_count": null,
   "id": "irish-rebate",
   "metadata": {},
   "outputs": [],
   "source": [
    "execute(  \"\"\"DELETE FROM ig \n",
    "             WHERE NOT EXISTS(  SELECT NULL\n",
    "                                FROM ais\n",
    "                                WHERE ais.ABN = ig.ABN)\"\"\")\n",
    "execute(  \"\"\"DELETE FROM ais \n",
    "             WHERE NOT EXISTS(  SELECT NULL\n",
    "                                FROM ig\n",
    "                                WHERE ig.ABN = ais.ABN)\"\"\")"
   ]
  },
  {
   "cell_type": "code",
   "execution_count": null,
   "id": "lovely-freedom",
   "metadata": {},
   "outputs": [],
   "source": [
    "# Checking that every row in AIS has a connected IG\n",
    "execute_sql(\"\"\" SELECT ais.Name, ais.ABN, ig.Name, ig.ABN\n",
    "                FROM ais\n",
    "                LEFT JOIN ig on ig.ABN ==ais.ABN\n",
    "                WHERE ig.ABN is Null\"\"\")"
   ]
  },
  {
   "cell_type": "code",
   "execution_count": null,
   "id": "suitable-residence",
   "metadata": {},
   "outputs": [],
   "source": [
    "# Checking that every IG has at least one connected year of AIS data\n",
    "execute_sql(\"\"\" SELECT ais.Name, ais.ABN, ig.Name, ig.ABN\n",
    "                FROM ig\n",
    "                LEFT JOIN ais on ais.ABN ==ig.ABN\n",
    "                WHERE ais.ABN is Null\"\"\")"
   ]
  },
  {
   "cell_type": "markdown",
   "id": "comparable-affairs",
   "metadata": {},
   "source": [
    "### Joining tables"
   ]
  },
  {
   "cell_type": "code",
   "execution_count": null,
   "id": "listed-overview",
   "metadata": {},
   "outputs": [],
   "source": [
    "df_unclean = execute_sql(\"\"\"SELECT  ais.ABN, ais.Name, ais.'Main activity', ais.'Full time staff', ais.'Part time staff', \n",
    "                        ais.'Volunteers', ais.'Year', ais.'Casual staff', ais.'Total revenue', \n",
    "                        ais.'Total gross income', ais.'Employee expenses', ais.'All other expenses', \n",
    "                        ais.'Total expenses', ais.'Net surplus deficit', ig.'type', ig.'cat1_1', ig.'formed_combined2'\n",
    "                    FROM ais\n",
    "                    LEFT JOIN ig on ig.ABN == ais.ABN\n",
    "                    ORDER BY ais.ABN, Year ASC\"\"\")"
   ]
  },
  {
   "cell_type": "code",
   "execution_count": null,
   "id": "talented-consumption",
   "metadata": {},
   "outputs": [],
   "source": [
    "df_unclean.to_csv('data/IG Over Time.csv')\n",
    "conn.commit()"
   ]
  },
  {
   "cell_type": "markdown",
   "id": "still-vegetation",
   "metadata": {},
   "source": [
    "## Cleaning Data"
   ]
  },
  {
   "cell_type": "code",
   "execution_count": null,
   "id": "still-scott",
   "metadata": {},
   "outputs": [],
   "source": [
    "# Removing outliers (eg. Clean Up Australia has 100,000s of volunteers). \n",
    "# Data is also messy with some organisations likely over reporting staff.\n",
    "# With outliers is 2478 rows\n",
    "# Without outliers is 2418 rows\n",
    "df = df_unclean[(np.abs(stats.zscore(df_unclean['Volunteers'])) < 3)]\n",
    "df = df[(np.abs(stats.zscore(df['Full time staff'])) < 3)]\n",
    "df = df[(np.abs(stats.zscore(df['Part time staff'])) < 3)]"
   ]
  },
  {
   "cell_type": "code",
   "execution_count": null,
   "id": "completed-stationery",
   "metadata": {},
   "outputs": [],
   "source": [
    "# Dropping all organisations without 7 years worth of data\n",
    "df = df.groupby((df.shift() != df).ABN.cumsum())\\\n",
    "     .filter(lambda x: len(x) == 7)"
   ]
  },
  {
   "cell_type": "code",
   "execution_count": null,
   "id": "instructional-device",
   "metadata": {},
   "outputs": [],
   "source": [
    "df.to_csv('data/IG Over Time Clean.csv')"
   ]
  },
  {
   "cell_type": "markdown",
   "id": "tough-faculty",
   "metadata": {},
   "source": [
    "# Analysis"
   ]
  },
  {
   "cell_type": "code",
   "execution_count": 6,
   "id": "verbal-summit",
   "metadata": {},
   "outputs": [],
   "source": [
    "df_year = df.groupby(by='Year')\n",
    "df_org  = df.groupby(by='Name')\n",
    "df_type = df.groupby(by='type')"
   ]
  },
  {
   "cell_type": "markdown",
   "id": "environmental-provision",
   "metadata": {},
   "source": [
    "## Number and type of observations"
   ]
  },
  {
   "cell_type": "code",
   "execution_count": 7,
   "id": "respective-albuquerque",
   "metadata": {},
   "outputs": [
    {
     "data": {
      "text/html": [
       "<div>\n",
       "<style scoped>\n",
       "    .dataframe tbody tr th:only-of-type {\n",
       "        vertical-align: middle;\n",
       "    }\n",
       "\n",
       "    .dataframe tbody tr th {\n",
       "        vertical-align: top;\n",
       "    }\n",
       "\n",
       "    .dataframe thead th {\n",
       "        text-align: right;\n",
       "    }\n",
       "</style>\n",
       "<table border=\"1\" class=\"dataframe\">\n",
       "  <thead>\n",
       "    <tr style=\"text-align: right;\">\n",
       "      <th></th>\n",
       "      <th>Analysed</th>\n",
       "      <th>Present in Australia</th>\n",
       "    </tr>\n",
       "    <tr>\n",
       "      <th>Type</th>\n",
       "      <th></th>\n",
       "      <th></th>\n",
       "    </tr>\n",
       "  </thead>\n",
       "  <tbody>\n",
       "    <tr>\n",
       "      <th>Business association</th>\n",
       "      <td>25</td>\n",
       "      <td>494</td>\n",
       "    </tr>\n",
       "    <tr>\n",
       "      <th>Citizen group</th>\n",
       "      <td>105</td>\n",
       "      <td>217</td>\n",
       "    </tr>\n",
       "    <tr>\n",
       "      <th>Hybrid group</th>\n",
       "      <td>32</td>\n",
       "      <td>58</td>\n",
       "    </tr>\n",
       "    <tr>\n",
       "      <th>Institutional group</th>\n",
       "      <td>15</td>\n",
       "      <td>25</td>\n",
       "    </tr>\n",
       "    <tr>\n",
       "      <th>Leisure group</th>\n",
       "      <td>25</td>\n",
       "      <td>194</td>\n",
       "    </tr>\n",
       "    <tr>\n",
       "      <th>Professional group</th>\n",
       "      <td>63</td>\n",
       "      <td>397</td>\n",
       "    </tr>\n",
       "    <tr>\n",
       "      <th>Service Group</th>\n",
       "      <td>81</td>\n",
       "      <td>134</td>\n",
       "    </tr>\n",
       "    <tr>\n",
       "      <th>Trade union</th>\n",
       "      <td>0</td>\n",
       "      <td>26</td>\n",
       "    </tr>\n",
       "  </tbody>\n",
       "</table>\n",
       "</div>"
      ],
      "text/plain": [
       "                      Analysed  Present in Australia\n",
       "Type                                                \n",
       "Business association        25                   494\n",
       "Citizen group              105                   217\n",
       "Hybrid group                32                    58\n",
       "Institutional group         15                    25\n",
       "Leisure group               25                   194\n",
       "Professional group          63                   397\n",
       "Service Group               81                   134\n",
       "Trade union                  0                    26"
      ]
     },
     "execution_count": 7,
     "metadata": {},
     "output_type": "execute_result"
    }
   ],
   "source": [
    "# Interest group data as a whole\n",
    "df_ig_type = df_ig_abn_unclean.groupby('type')\n",
    "df_ig_type = pd.DataFrame(df_ig_type.Name.count())\n",
    "df_ig_type['Type'] = df_ig_type.index\n",
    "df_ig_type['Observations'] = df_ig_type['Name']\n",
    "\n",
    "df_ig_type.reset_index(inplace=True)\n",
    "df_ig_type.index.rename('Index', inplace = True)\n",
    "df_ig_type['i'] = df_ig_type.index\n",
    "\n",
    "df_all_obs = pd.DataFrame()\n",
    "df_all_obs['Type'] = df_ig_type['Type']\n",
    "\n",
    "# Just those in the AIS data\n",
    "df_obs = pd.DataFrame(df_type.Year.count())\n",
    "df_obs['Observations'] = (df_obs['Year']/7).astype(int)\n",
    "df_obs['Type']=df_obs.index\n",
    "\n",
    "df_obs.reset_index(inplace=True)\n",
    "df_obs.index.rename('Index', inplace = True)\n",
    "df_obs['i'] = df_obs.index\n",
    "\n",
    "# No trade unions so have to manually add in a trade Union column as 0\n",
    "TradeUnion = pd.DataFrame([('Trade union',0,0,'Trade union',7)], columns=df_obs.columns)\n",
    "df_obs = pd.concat([df_obs,TradeUnion])\n",
    "df_obs.reset_index(inplace=True)\n",
    "\n",
    "df_all_obs['Analysed'] = df_obs['Observations']\n",
    "df_all_obs['Present in Australia'] = df_ig_type['Observations']\n",
    "df_all_obs.index = df_all_obs['Type']\n",
    "df_all_obs.drop('Type', axis =1, inplace = True)\n",
    "df_all_obs"
   ]
  },
  {
   "cell_type": "code",
   "execution_count": 8,
   "id": "outside-portugal",
   "metadata": {},
   "outputs": [
    {
     "data": {
      "image/png": "[encoded data removed]",
      "text/plain": [
       "<Figure size 576x720 with 1 Axes>"
      ]
     },
     "metadata": {
      "needs_background": "light"
     },
     "output_type": "display_data"
    }
   ],
   "source": [
    "# As a chart, first all observations\n",
    "plt.figure(figsize=(8,10))\n",
    "ax2 =sns.barplot(x='Observations', y='Type', data = df_ig_type, orient = 'h', alpha = 0.4)\n",
    "for index, row in df_ig_type.iterrows():\n",
    "    ax2.text(row.Observations+ 2,row.i, row.Observations, color='black', ha=\"left\", va=\"center\")\n",
    "\n",
    "#Plotting just those in the AIS data\n",
    "ax2 = sns.barplot(x='Observations',y='Type',data=df_obs, orient = 'h', saturation = 1)\n",
    "ax2.set(xlabel='Number of Groups', ylabel='Type', title = 'Number of groups by type of group')\n",
    "for index, row in df_obs.iterrows():\n",
    "    ax2.text(row.Observations+ 2,row.i, row.Observations, color='black', ha=\"left\", va=\"center\")\n",
    "\n",
    "# Legend\n",
    "nonsat = mpatches.Patch(color='black', label='Interest groups analysed')\n",
    "sat = mpatches.Patch(color='black', alpha = 0.1, label='Interest groups present in Aus.')\n",
    "plt.legend(handles=[nonsat,sat])\n",
    "plt.show()"
   ]
  },
  {
   "cell_type": "code",
   "execution_count": 9,
   "id": "joined-keeping",
   "metadata": {},
   "outputs": [
    {
     "data": {
      "image/png": "[encoded data removed]",
      "text/plain": [
       "<Figure size 1152x576 with 1 Axes>"
      ]
     },
     "metadata": {
      "needs_background": "light"
     },
     "output_type": "display_data"
    }
   ],
   "source": [
    "# Staff and volunteer data over time\n",
    "plt.figure(figsize=(16,8))\n",
    "ax1 = sns.lineplot(x='Year',y='Volunteers',data=df)\n",
    "ax1 = sns.lineplot(x='Year',y='Full time staff', data=df)\n",
    "ax1 = sns.lineplot(x='Year',y='Part time staff', data=df)\n",
    "plt.legend(['Volunteers','Full time staff','Part time staff'])\n",
    "ax1.set(xlabel='Year', ylabel='Number of People', title = 'Number of staff and volunteers by year')\n",
    "\n",
    "plt.show()"
   ]
  },
  {
   "cell_type": "code",
   "execution_count": 10,
   "id": "southern-russia",
   "metadata": {
    "scrolled": false
   },
   "outputs": [
    {
     "data": {
      "image/png": "[encoded data removed]",
      "text/plain": [
       "<Figure size 1152x576 with 1 Axes>"
      ]
     },
     "metadata": {
      "needs_background": "light"
     },
     "output_type": "display_data"
    }
   ],
   "source": [
    "# Perfecntage of TGI spent on employees over tiem\n",
    "df['Percentage of TGI spent on employees'] = df['Employee expenses'] / df['Total gross income']\n",
    "\n",
    "plt.figure(figsize=(16,8))\n",
    "\n",
    "sns.lineplot(x= 'Year',y = 'Percentage of TGI spent on employees', data = df)\n",
    "plt.title('Percent of total gross income spend on employee expenses')\n",
    "plt.show()"
   ]
  },
  {
   "cell_type": "code",
   "execution_count": 11,
   "id": "innovative-zealand",
   "metadata": {},
   "outputs": [
    {
     "data": {
      "image/png": "[encoded data removed]",
      "text/plain": [
       "<Figure size 1152x864 with 4 Axes>"
      ]
     },
     "metadata": {
      "needs_background": "light"
     },
     "output_type": "display_data"
    }
   ],
   "source": [
    "# Comparing trends accross IG types\n",
    "plt.figure(figsize = (16,12))\n",
    "\n",
    "type_num_dict = {'Citizen group':1,\n",
    "                 'Hybrid group':2,\n",
    "                 'Institutional group':3,\n",
    "                 'Service Group':4}\n",
    "\n",
    "group_types_of_interest = ['Citizen group','Hybrid group','Institutional group','Service Group']\n",
    "\n",
    "for i in group_types_of_interest:\n",
    "    plt.subplot(2,2,type_num_dict[i])\n",
    "    ax1 = sns.lineplot(x='Year',y = 'Volunteers', data = df[df.loc[:,'type'] == i])\n",
    "    ax1 = sns.lineplot(x='Year',y = 'Full time staff', data = df[df.loc[:,'type'] == i])\n",
    "    ax1 = sns.lineplot(x='Year',y = 'Part time staff', data = df[df.loc[:,'type'] == i])\n",
    "    plt.legend(['Volunteers','Full time staff','Part time staff'])\n",
    "    ax1.set(xlabel='Year', ylabel='Number of People', title = 'Number of staff and volunteers by year for ' + i)\n",
    "plt.show()"
   ]
  },
  {
   "cell_type": "code",
   "execution_count": 12,
   "id": "intellectual-zealand",
   "metadata": {},
   "outputs": [
    {
     "data": {
      "image/png": "[encoded data removed]",
      "text/plain": [
       "<Figure size 576x432 with 1 Axes>"
      ]
     },
     "metadata": {
      "needs_background": "light"
     },
     "output_type": "display_data"
    }
   ],
   "source": [
    "# Looking just at citizen groups\n",
    "plt.figure(figsize = (8,6))\n",
    "ax1 = sns.lineplot(x='Year',y = 'Volunteers', data = df[df.loc[:,'type'] == 'Citizen group'])\n",
    "ax1 = sns.lineplot(x='Year',y = 'Full time staff', data = df[df.loc[:,'type'] == 'Citizen group'])\n",
    "ax1 = sns.lineplot(x='Year',y = 'Part time staff', data = df[df.loc[:,'type'] == 'Citizen group'])\n",
    "plt.legend(['Volunteers','Full time staff','Part time staff'])\n",
    "ax1.set(xlabel='Year', ylabel='Number of People', title = 'Number of staff and volunteers by year in citizen groups')\n",
    "plt.show()"
   ]
  },
  {
   "cell_type": "code",
   "execution_count": 13,
   "id": "neither-morgan",
   "metadata": {},
   "outputs": [],
   "source": [
    "# Looking at specific organisations in the citizen group category\n",
    "orgs = ['Greening Australia Ltd',\n",
    "'The Leukaemia Foundation Of Australia Limited',\n",
    "'Create Foundation Limited']\n",
    "\n",
    "def HighlightName(x):\n",
    "    if x in orgs:\n",
    "        return x\n",
    "    else:\n",
    "        return 'All others'\n",
    "\n",
    "df_citizen = df[df.loc[:,'type'] == 'Citizen group']\n",
    "df_citizen['Name 2'] = df.Name.apply(HighlightName)\n"
   ]
  },
  {
   "cell_type": "code",
   "execution_count": 14,
   "id": "friendly-summit",
   "metadata": {},
   "outputs": [
    {
     "data": {
      "image/png": "[encoded data removed]",
      "text/plain": [
       "<Figure size 1152x576 with 1 Axes>"
      ]
     },
     "metadata": {
      "needs_background": "light"
     },
     "output_type": "display_data"
    }
   ],
   "source": [
    "plt.figure(figsize=(16,8))\n",
    "sns.lineplot(x = 'Year', y = 'Volunteers', hue = 'Name 2', data = df_citizen)\n",
    "plt.title('Volunteer trends over time for select citizen groups')\n",
    "plt.legend()\n",
    "plt.show()"
   ]
  },
  {
   "cell_type": "code",
   "execution_count": 15,
   "id": "industrial-nepal",
   "metadata": {},
   "outputs": [
    {
     "data": {
      "text/plain": [
       "type\n",
       "Business association    11.240000\n",
       "Citizen group           11.374150\n",
       "Hybrid group            45.986607\n",
       "Institutional group     13.161905\n",
       "Leisure group            2.011429\n",
       "Professional group      20.938776\n",
       "Service Group           30.679012\n",
       "Name: Full time staff, dtype: float64"
      ]
     },
     "execution_count": 15,
     "metadata": {},
     "output_type": "execute_result"
    }
   ],
   "source": [
    "# Mean full time staff members by interest groups\n",
    "df_type['Full time staff'].mean()"
   ]
  },
  {
   "cell_type": "code",
   "execution_count": 16,
   "id": "statewide-documentation",
   "metadata": {},
   "outputs": [
    {
     "data": {
      "image/png": "[encoded data removed]",
      "text/plain": [
       "<Figure size 864x432 with 1 Axes>"
      ]
     },
     "metadata": {
      "needs_background": "light"
     },
     "output_type": "display_data"
    }
   ],
   "source": [
    "df_goi = df.loc[df['type'].isin(group_types_of_interest)]\n",
    "df_goi = df_goi[df_goi['Year'] != 2013]\n",
    "\n",
    "plt.figure(figsize = (12,6))\n",
    "sns.barplot(x = 'Year',y = 'Percentage of TGI spent on employees', hue = 'type',data = df_goi)\n",
    "plt.title('Percentage of total gross income spent on employee expenses')\n",
    "plt.legend(loc = 'upper center', ncol = 4)\n",
    "\n",
    "plt.show()"
   ]
  },
  {
   "cell_type": "code",
   "execution_count": 17,
   "id": "selective-portugal",
   "metadata": {},
   "outputs": [
    {
     "data": {
      "image/png": "[encoded data removed]",
      "text/plain": [
       "<Figure size 1152x576 with 2 Axes>"
      ]
     },
     "metadata": {
      "needs_background": "light"
     },
     "output_type": "display_data"
    }
   ],
   "source": [
    "# Increase in employee expenses in comparison to gross income\n",
    "plt.figure(figsize= (16,8))\n",
    "sns.lineplot(x = 'Year', y = 'Total gross income', data = df, color = sns.color_palette(\"Spectral\")[1])\n",
    "plt.legend(['Gross income'], loc = 'upper left')\n",
    "ax2 = plt.twinx()\n",
    "sns.lineplot(x = 'Year', y = 'Employee expenses', data = df, ax = ax2, color = sns.color_palette(\"Spectral\")[0])\n",
    "plt.legend(['Employee expenses'])\n",
    "plt.title('Growth of gross income and employee expenses over time')\n",
    "plt.show()\n",
    "\n"
   ]
  },
  {
   "cell_type": "markdown",
   "id": "earlier-coast",
   "metadata": {},
   "source": [
    "## Mann Kendall and Growth Rate Statistics\n",
    "### Full time staff"
   ]
  },
  {
   "cell_type": "code",
   "execution_count": 18,
   "id": "narrow-drama",
   "metadata": {},
   "outputs": [
    {
     "name": "stdout",
     "output_type": "stream",
     "text": [
      "Full time staff:\n",
      "increasing trend is statistically significant\n"
     ]
    }
   ],
   "source": [
    "df_grth = df[['Full time staff', 'Year']]\n",
    "df_grth = df_grth.groupby('Year')\n",
    "df_grth = df_grth.mean()\n",
    "sigtest = mk.original_test(df_grth)\n",
    "print('Full time staff:')\n",
    "if sigtest.p < 0.05:\n",
    "    print(f'{sigtest.trend} trend is statistically significant')\n",
    "else:\n",
    "    print('no statistically significant trend')"
   ]
  },
  {
   "cell_type": "code",
   "execution_count": 19,
   "id": "worst-integrity",
   "metadata": {
    "scrolled": true
   },
   "outputs": [
    {
     "name": "stdout",
     "output_type": "stream",
     "text": [
      "Average annual growth rate is 0.014\n"
     ]
    },
    {
     "data": {
      "text/html": [
       "<div>\n",
       "<style scoped>\n",
       "    .dataframe tbody tr th:only-of-type {\n",
       "        vertical-align: middle;\n",
       "    }\n",
       "\n",
       "    .dataframe tbody tr th {\n",
       "        vertical-align: top;\n",
       "    }\n",
       "\n",
       "    .dataframe thead th {\n",
       "        text-align: right;\n",
       "    }\n",
       "</style>\n",
       "<table border=\"1\" class=\"dataframe\">\n",
       "  <thead>\n",
       "    <tr style=\"text-align: right;\">\n",
       "      <th>Year</th>\n",
       "      <th>2013</th>\n",
       "      <th>2014</th>\n",
       "      <th>2015</th>\n",
       "      <th>2016</th>\n",
       "      <th>2017</th>\n",
       "      <th>2018</th>\n",
       "      <th>2019</th>\n",
       "      <th>Average Annual Growth</th>\n",
       "    </tr>\n",
       "    <tr>\n",
       "      <th>type</th>\n",
       "      <th></th>\n",
       "      <th></th>\n",
       "      <th></th>\n",
       "      <th></th>\n",
       "      <th></th>\n",
       "      <th></th>\n",
       "      <th></th>\n",
       "      <th></th>\n",
       "    </tr>\n",
       "  </thead>\n",
       "  <tbody>\n",
       "    <tr>\n",
       "      <th>Business association</th>\n",
       "      <td>11.800000</td>\n",
       "      <td>11.600000</td>\n",
       "      <td>10.760000</td>\n",
       "      <td>11.480000</td>\n",
       "      <td>10.920000</td>\n",
       "      <td>10.920000</td>\n",
       "      <td>11.200000</td>\n",
       "      <td>-0.007598</td>\n",
       "    </tr>\n",
       "    <tr>\n",
       "      <th>Citizen group</th>\n",
       "      <td>9.895238</td>\n",
       "      <td>10.476190</td>\n",
       "      <td>10.571429</td>\n",
       "      <td>11.733333</td>\n",
       "      <td>12.200000</td>\n",
       "      <td>12.419048</td>\n",
       "      <td>12.323810</td>\n",
       "      <td>0.037962</td>\n",
       "    </tr>\n",
       "    <tr>\n",
       "      <th>Hybrid group</th>\n",
       "      <td>39.875000</td>\n",
       "      <td>54.375000</td>\n",
       "      <td>48.687500</td>\n",
       "      <td>45.781250</td>\n",
       "      <td>48.218750</td>\n",
       "      <td>43.218750</td>\n",
       "      <td>41.750000</td>\n",
       "      <td>0.019152</td>\n",
       "    </tr>\n",
       "    <tr>\n",
       "      <th>Institutional group</th>\n",
       "      <td>12.466667</td>\n",
       "      <td>14.600000</td>\n",
       "      <td>14.266667</td>\n",
       "      <td>12.666667</td>\n",
       "      <td>13.266667</td>\n",
       "      <td>13.066667</td>\n",
       "      <td>11.800000</td>\n",
       "      <td>-0.004751</td>\n",
       "    </tr>\n",
       "    <tr>\n",
       "      <th>Leisure group</th>\n",
       "      <td>2.440000</td>\n",
       "      <td>1.920000</td>\n",
       "      <td>2.000000</td>\n",
       "      <td>2.040000</td>\n",
       "      <td>1.760000</td>\n",
       "      <td>1.960000</td>\n",
       "      <td>1.960000</td>\n",
       "      <td>-0.029178</td>\n",
       "    </tr>\n",
       "    <tr>\n",
       "      <th>Professional group</th>\n",
       "      <td>18.587302</td>\n",
       "      <td>20.349206</td>\n",
       "      <td>20.079365</td>\n",
       "      <td>21.301587</td>\n",
       "      <td>20.841270</td>\n",
       "      <td>22.857143</td>\n",
       "      <td>22.555556</td>\n",
       "      <td>0.034053</td>\n",
       "    </tr>\n",
       "    <tr>\n",
       "      <th>Service Group</th>\n",
       "      <td>27.222222</td>\n",
       "      <td>27.654321</td>\n",
       "      <td>29.123457</td>\n",
       "      <td>29.246914</td>\n",
       "      <td>32.777778</td>\n",
       "      <td>32.790123</td>\n",
       "      <td>35.938272</td>\n",
       "      <td>0.048391</td>\n",
       "    </tr>\n",
       "  </tbody>\n",
       "</table>\n",
       "</div>"
      ],
      "text/plain": [
       "Year                       2013       2014       2015       2016       2017  \\\n",
       "type                                                                          \n",
       "Business association  11.800000  11.600000  10.760000  11.480000  10.920000   \n",
       "Citizen group          9.895238  10.476190  10.571429  11.733333  12.200000   \n",
       "Hybrid group          39.875000  54.375000  48.687500  45.781250  48.218750   \n",
       "Institutional group   12.466667  14.600000  14.266667  12.666667  13.266667   \n",
       "Leisure group          2.440000   1.920000   2.000000   2.040000   1.760000   \n",
       "Professional group    18.587302  20.349206  20.079365  21.301587  20.841270   \n",
       "Service Group         27.222222  27.654321  29.123457  29.246914  32.777778   \n",
       "\n",
       "Year                       2018       2019  Average Annual Growth  \n",
       "type                                                               \n",
       "Business association  10.920000  11.200000              -0.007598  \n",
       "Citizen group         12.419048  12.323810               0.037962  \n",
       "Hybrid group          43.218750  41.750000               0.019152  \n",
       "Institutional group   13.066667  11.800000              -0.004751  \n",
       "Leisure group          1.960000   1.960000              -0.029178  \n",
       "Professional group    22.857143  22.555556               0.034053  \n",
       "Service Group         32.790123  35.938272               0.048391  "
      ]
     },
     "execution_count": 19,
     "metadata": {},
     "output_type": "execute_result"
    }
   ],
   "source": [
    "df_grth = df[['Full time staff', 'type','Year']]\n",
    "df_grth = df_grth.pivot_table(index = 'type', columns = 'Year', values = 'Full time staff')\n",
    "df_grth['Average Annual Growth'] = (\n",
    "    ((df_grth[2014] / df_grth[2013] - 1) +\n",
    "    (df_grth[2015] / df_grth[2014] - 1) +\n",
    "    (df_grth[2016] / df_grth[2015] - 1) +\n",
    "    (df_grth[2017] / df_grth[2016] - 1) +\n",
    "    (df_grth[2018] / df_grth[2017] - 1) +\n",
    "    (df_grth[2019] / df_grth[2018] - 1)) / 6)\n",
    "popmean = round(df_grth['Average Annual Growth'].mean(),3)\n",
    "print(f'Average annual growth rate is {popmean}')\n",
    "df_grth"
   ]
  },
  {
   "cell_type": "markdown",
   "id": "selective-listing",
   "metadata": {},
   "source": [
    "### Part time staff"
   ]
  },
  {
   "cell_type": "code",
   "execution_count": 20,
   "id": "conscious-security",
   "metadata": {},
   "outputs": [
    {
     "name": "stdout",
     "output_type": "stream",
     "text": [
      "Part time staff:\n",
      "no statistically significant trend\n"
     ]
    }
   ],
   "source": [
    "df_grth = df[['Part time staff', 'Year']]\n",
    "df_grth = df_grth.groupby('Year')\n",
    "df_grth = df_grth.mean()\n",
    "sigtest = mk.original_test(df_grth)\n",
    "print('Part time staff:')\n",
    "if sigtest.p < 0.05:\n",
    "    print(f'{sigtest.trend} trend is statistically significant')\n",
    "else:\n",
    "    print('no statistically significant trend')"
   ]
  },
  {
   "cell_type": "code",
   "execution_count": 21,
   "id": "civil-cameroon",
   "metadata": {},
   "outputs": [
    {
     "name": "stdout",
     "output_type": "stream",
     "text": [
      "Average annual growth rate is 0.002\n"
     ]
    },
    {
     "data": {
      "text/html": [
       "<div>\n",
       "<style scoped>\n",
       "    .dataframe tbody tr th:only-of-type {\n",
       "        vertical-align: middle;\n",
       "    }\n",
       "\n",
       "    .dataframe tbody tr th {\n",
       "        vertical-align: top;\n",
       "    }\n",
       "\n",
       "    .dataframe thead th {\n",
       "        text-align: right;\n",
       "    }\n",
       "</style>\n",
       "<table border=\"1\" class=\"dataframe\">\n",
       "  <thead>\n",
       "    <tr style=\"text-align: right;\">\n",
       "      <th>Year</th>\n",
       "      <th>2013</th>\n",
       "      <th>2014</th>\n",
       "      <th>2015</th>\n",
       "      <th>2016</th>\n",
       "      <th>2017</th>\n",
       "      <th>2018</th>\n",
       "      <th>2019</th>\n",
       "      <th>Average Annual Growth</th>\n",
       "    </tr>\n",
       "    <tr>\n",
       "      <th>type</th>\n",
       "      <th></th>\n",
       "      <th></th>\n",
       "      <th></th>\n",
       "      <th></th>\n",
       "      <th></th>\n",
       "      <th></th>\n",
       "      <th></th>\n",
       "      <th></th>\n",
       "    </tr>\n",
       "  </thead>\n",
       "  <tbody>\n",
       "    <tr>\n",
       "      <th>Business association</th>\n",
       "      <td>5.840000</td>\n",
       "      <td>4.600000</td>\n",
       "      <td>4.240000</td>\n",
       "      <td>4.640000</td>\n",
       "      <td>4.320000</td>\n",
       "      <td>4.640000</td>\n",
       "      <td>5.360000</td>\n",
       "      <td>-0.005995</td>\n",
       "    </tr>\n",
       "    <tr>\n",
       "      <th>Citizen group</th>\n",
       "      <td>5.009524</td>\n",
       "      <td>4.285714</td>\n",
       "      <td>4.819048</td>\n",
       "      <td>5.885714</td>\n",
       "      <td>6.047619</td>\n",
       "      <td>6.466667</td>\n",
       "      <td>7.161905</td>\n",
       "      <td>0.067602</td>\n",
       "    </tr>\n",
       "    <tr>\n",
       "      <th>Hybrid group</th>\n",
       "      <td>31.125000</td>\n",
       "      <td>14.687500</td>\n",
       "      <td>18.968750</td>\n",
       "      <td>20.218750</td>\n",
       "      <td>22.375000</td>\n",
       "      <td>15.500000</td>\n",
       "      <td>16.687500</td>\n",
       "      <td>-0.049121</td>\n",
       "    </tr>\n",
       "    <tr>\n",
       "      <th>Institutional group</th>\n",
       "      <td>5.066667</td>\n",
       "      <td>4.600000</td>\n",
       "      <td>5.933333</td>\n",
       "      <td>6.066667</td>\n",
       "      <td>7.200000</td>\n",
       "      <td>6.733333</td>\n",
       "      <td>4.333333</td>\n",
       "      <td>-0.002369</td>\n",
       "    </tr>\n",
       "    <tr>\n",
       "      <th>Leisure group</th>\n",
       "      <td>2.520000</td>\n",
       "      <td>1.760000</td>\n",
       "      <td>1.800000</td>\n",
       "      <td>2.320000</td>\n",
       "      <td>2.080000</td>\n",
       "      <td>1.200000</td>\n",
       "      <td>1.280000</td>\n",
       "      <td>-0.074972</td>\n",
       "    </tr>\n",
       "    <tr>\n",
       "      <th>Professional group</th>\n",
       "      <td>6.603175</td>\n",
       "      <td>6.555556</td>\n",
       "      <td>6.841270</td>\n",
       "      <td>6.841270</td>\n",
       "      <td>8.126984</td>\n",
       "      <td>7.682540</td>\n",
       "      <td>8.555556</td>\n",
       "      <td>0.047209</td>\n",
       "    </tr>\n",
       "    <tr>\n",
       "      <th>Service Group</th>\n",
       "      <td>15.827160</td>\n",
       "      <td>10.197531</td>\n",
       "      <td>11.975309</td>\n",
       "      <td>11.654321</td>\n",
       "      <td>13.098765</td>\n",
       "      <td>14.691358</td>\n",
       "      <td>17.185185</td>\n",
       "      <td>0.034518</td>\n",
       "    </tr>\n",
       "  </tbody>\n",
       "</table>\n",
       "</div>"
      ],
      "text/plain": [
       "Year                       2013       2014       2015       2016       2017  \\\n",
       "type                                                                          \n",
       "Business association   5.840000   4.600000   4.240000   4.640000   4.320000   \n",
       "Citizen group          5.009524   4.285714   4.819048   5.885714   6.047619   \n",
       "Hybrid group          31.125000  14.687500  18.968750  20.218750  22.375000   \n",
       "Institutional group    5.066667   4.600000   5.933333   6.066667   7.200000   \n",
       "Leisure group          2.520000   1.760000   1.800000   2.320000   2.080000   \n",
       "Professional group     6.603175   6.555556   6.841270   6.841270   8.126984   \n",
       "Service Group         15.827160  10.197531  11.975309  11.654321  13.098765   \n",
       "\n",
       "Year                       2018       2019  Average Annual Growth  \n",
       "type                                                               \n",
       "Business association   4.640000   5.360000              -0.005995  \n",
       "Citizen group          6.466667   7.161905               0.067602  \n",
       "Hybrid group          15.500000  16.687500              -0.049121  \n",
       "Institutional group    6.733333   4.333333              -0.002369  \n",
       "Leisure group          1.200000   1.280000              -0.074972  \n",
       "Professional group     7.682540   8.555556               0.047209  \n",
       "Service Group         14.691358  17.185185               0.034518  "
      ]
     },
     "execution_count": 21,
     "metadata": {},
     "output_type": "execute_result"
    }
   ],
   "source": [
    "df_grth = df[['Part time staff', 'type','Year']]\n",
    "df_grth = df_grth.pivot_table(index = 'type', columns = 'Year', values = 'Part time staff')\n",
    "df_grth['Average Annual Growth'] = (\n",
    "    ((df_grth[2014] / df_grth[2013] - 1) +\n",
    "    (df_grth[2015] / df_grth[2014] - 1) +\n",
    "    (df_grth[2016] / df_grth[2015] - 1) +\n",
    "    (df_grth[2017] / df_grth[2016] - 1) +\n",
    "    (df_grth[2018] / df_grth[2017] - 1) +\n",
    "    (df_grth[2019] / df_grth[2018] - 1)) / 6)\n",
    "popmean = round(df_grth['Average Annual Growth'].mean(),3)\n",
    "print(f'Average annual growth rate is {popmean}')\n",
    "df_grth"
   ]
  },
  {
   "cell_type": "markdown",
   "id": "diverse-remove",
   "metadata": {},
   "source": [
    "### Volunteers"
   ]
  },
  {
   "cell_type": "code",
   "execution_count": 22,
   "id": "native-communications",
   "metadata": {},
   "outputs": [
    {
     "name": "stdout",
     "output_type": "stream",
     "text": [
      "Volunteers staff:\n",
      "no statistically significant trend\n"
     ]
    }
   ],
   "source": [
    "df_grth = df[['Volunteers', 'Year']]\n",
    "df_grth = df_grth.groupby('Year')\n",
    "df_grth = df_grth.mean()\n",
    "sigtest = mk.original_test(df_grth)\n",
    "print('Volunteers staff:')\n",
    "if sigtest.p < 0.05:\n",
    "    print(f'{sigtest.trend} trend is statistically significant')\n",
    "else:\n",
    "    print('no statistically significant trend')"
   ]
  },
  {
   "cell_type": "code",
   "execution_count": 23,
   "id": "assigned-dealing",
   "metadata": {},
   "outputs": [
    {
     "name": "stdout",
     "output_type": "stream",
     "text": [
      "Average annual growth rate is 0.016\n"
     ]
    },
    {
     "data": {
      "text/html": [
       "<div>\n",
       "<style scoped>\n",
       "    .dataframe tbody tr th:only-of-type {\n",
       "        vertical-align: middle;\n",
       "    }\n",
       "\n",
       "    .dataframe tbody tr th {\n",
       "        vertical-align: top;\n",
       "    }\n",
       "\n",
       "    .dataframe thead th {\n",
       "        text-align: right;\n",
       "    }\n",
       "</style>\n",
       "<table border=\"1\" class=\"dataframe\">\n",
       "  <thead>\n",
       "    <tr style=\"text-align: right;\">\n",
       "      <th>Year</th>\n",
       "      <th>2013</th>\n",
       "      <th>2014</th>\n",
       "      <th>2015</th>\n",
       "      <th>2016</th>\n",
       "      <th>2017</th>\n",
       "      <th>2018</th>\n",
       "      <th>2019</th>\n",
       "      <th>Average Annual Growth</th>\n",
       "    </tr>\n",
       "    <tr>\n",
       "      <th>type</th>\n",
       "      <th></th>\n",
       "      <th></th>\n",
       "      <th></th>\n",
       "      <th></th>\n",
       "      <th></th>\n",
       "      <th></th>\n",
       "      <th></th>\n",
       "      <th></th>\n",
       "    </tr>\n",
       "  </thead>\n",
       "  <tbody>\n",
       "    <tr>\n",
       "      <th>Business association</th>\n",
       "      <td>64.200000</td>\n",
       "      <td>73.240000</td>\n",
       "      <td>36.080000</td>\n",
       "      <td>39.280000</td>\n",
       "      <td>42.720000</td>\n",
       "      <td>42.080000</td>\n",
       "      <td>50.720000</td>\n",
       "      <td>0.000008</td>\n",
       "    </tr>\n",
       "    <tr>\n",
       "      <th>Citizen group</th>\n",
       "      <td>57.876190</td>\n",
       "      <td>63.923810</td>\n",
       "      <td>136.961905</td>\n",
       "      <td>165.495238</td>\n",
       "      <td>150.390476</td>\n",
       "      <td>175.390476</td>\n",
       "      <td>195.904762</td>\n",
       "      <td>0.274555</td>\n",
       "    </tr>\n",
       "    <tr>\n",
       "      <th>Hybrid group</th>\n",
       "      <td>195.093750</td>\n",
       "      <td>165.125000</td>\n",
       "      <td>189.906250</td>\n",
       "      <td>210.375000</td>\n",
       "      <td>174.562500</td>\n",
       "      <td>122.343750</td>\n",
       "      <td>98.562500</td>\n",
       "      <td>-0.093251</td>\n",
       "    </tr>\n",
       "    <tr>\n",
       "      <th>Institutional group</th>\n",
       "      <td>11.266667</td>\n",
       "      <td>16.533333</td>\n",
       "      <td>14.666667</td>\n",
       "      <td>13.533333</td>\n",
       "      <td>11.666667</td>\n",
       "      <td>8.400000</td>\n",
       "      <td>8.800000</td>\n",
       "      <td>-0.015505</td>\n",
       "    </tr>\n",
       "    <tr>\n",
       "      <th>Leisure group</th>\n",
       "      <td>212.920000</td>\n",
       "      <td>205.520000</td>\n",
       "      <td>225.040000</td>\n",
       "      <td>235.000000</td>\n",
       "      <td>238.440000</td>\n",
       "      <td>225.760000</td>\n",
       "      <td>225.960000</td>\n",
       "      <td>0.011138</td>\n",
       "    </tr>\n",
       "    <tr>\n",
       "      <th>Professional group</th>\n",
       "      <td>212.015873</td>\n",
       "      <td>142.809524</td>\n",
       "      <td>177.936508</td>\n",
       "      <td>168.238095</td>\n",
       "      <td>136.301587</td>\n",
       "      <td>183.126984</td>\n",
       "      <td>132.111111</td>\n",
       "      <td>-0.043304</td>\n",
       "    </tr>\n",
       "    <tr>\n",
       "      <th>Service Group</th>\n",
       "      <td>218.419753</td>\n",
       "      <td>126.938272</td>\n",
       "      <td>196.308642</td>\n",
       "      <td>208.567901</td>\n",
       "      <td>224.111111</td>\n",
       "      <td>194.592593</td>\n",
       "      <td>140.283951</td>\n",
       "      <td>-0.024362</td>\n",
       "    </tr>\n",
       "  </tbody>\n",
       "</table>\n",
       "</div>"
      ],
      "text/plain": [
       "Year                        2013        2014        2015        2016  \\\n",
       "type                                                                   \n",
       "Business association   64.200000   73.240000   36.080000   39.280000   \n",
       "Citizen group          57.876190   63.923810  136.961905  165.495238   \n",
       "Hybrid group          195.093750  165.125000  189.906250  210.375000   \n",
       "Institutional group    11.266667   16.533333   14.666667   13.533333   \n",
       "Leisure group         212.920000  205.520000  225.040000  235.000000   \n",
       "Professional group    212.015873  142.809524  177.936508  168.238095   \n",
       "Service Group         218.419753  126.938272  196.308642  208.567901   \n",
       "\n",
       "Year                        2017        2018        2019  \\\n",
       "type                                                       \n",
       "Business association   42.720000   42.080000   50.720000   \n",
       "Citizen group         150.390476  175.390476  195.904762   \n",
       "Hybrid group          174.562500  122.343750   98.562500   \n",
       "Institutional group    11.666667    8.400000    8.800000   \n",
       "Leisure group         238.440000  225.760000  225.960000   \n",
       "Professional group    136.301587  183.126984  132.111111   \n",
       "Service Group         224.111111  194.592593  140.283951   \n",
       "\n",
       "Year                  Average Annual Growth  \n",
       "type                                         \n",
       "Business association               0.000008  \n",
       "Citizen group                      0.274555  \n",
       "Hybrid group                      -0.093251  \n",
       "Institutional group               -0.015505  \n",
       "Leisure group                      0.011138  \n",
       "Professional group                -0.043304  \n",
       "Service Group                     -0.024362  "
      ]
     },
     "execution_count": 23,
     "metadata": {},
     "output_type": "execute_result"
    }
   ],
   "source": [
    "df_grth = df[['Volunteers', 'type','Year']]\n",
    "df_grth = df_grth.pivot_table(index = 'type', columns = 'Year', values = 'Volunteers')\n",
    "df_grth['Average Annual Growth'] = (\n",
    "    ((df_grth[2014] / df_grth[2013] - 1) +\n",
    "    (df_grth[2015] / df_grth[2014] - 1) +\n",
    "    (df_grth[2016] / df_grth[2015] - 1) +\n",
    "    (df_grth[2017] / df_grth[2016] - 1) +\n",
    "    (df_grth[2018] / df_grth[2017] - 1) +\n",
    "    (df_grth[2019] / df_grth[2018] - 1)) / 6)\n",
    "popmean = round(df_grth['Average Annual Growth'].mean(),3)\n",
    "print(f'Average annual growth rate is {popmean}')\n",
    "df_grth"
   ]
  },
  {
   "cell_type": "markdown",
   "id": "returning-bibliography",
   "metadata": {},
   "source": [
    "### Total Gross Income"
   ]
  },
  {
   "cell_type": "code",
   "execution_count": 24,
   "id": "improving-alignment",
   "metadata": {},
   "outputs": [
    {
     "name": "stdout",
     "output_type": "stream",
     "text": [
      "Total gross income:\n",
      "increasing trend is statistically significant\n"
     ]
    }
   ],
   "source": [
    "df_grth = df[['Total gross income', 'Year']]\n",
    "df_grth = df_grth.groupby('Year').mean().iloc[1:]\n",
    "sigtest = mk.original_test(df_grth)\n",
    "print('Total gross income:')\n",
    "if sigtest.p < 0.05:\n",
    "    print(f'{sigtest.trend} trend is statistically significant')\n",
    "else:\n",
    "    print('no statistically significant trend')"
   ]
  },
  {
   "cell_type": "code",
   "execution_count": 25,
   "id": "indoor-hollywood",
   "metadata": {},
   "outputs": [
    {
     "name": "stdout",
     "output_type": "stream",
     "text": [
      "Average annual growth rate is 0.018\n"
     ]
    },
    {
     "data": {
      "text/html": [
       "<div>\n",
       "<style scoped>\n",
       "    .dataframe tbody tr th:only-of-type {\n",
       "        vertical-align: middle;\n",
       "    }\n",
       "\n",
       "    .dataframe tbody tr th {\n",
       "        vertical-align: top;\n",
       "    }\n",
       "\n",
       "    .dataframe thead th {\n",
       "        text-align: right;\n",
       "    }\n",
       "</style>\n",
       "<table border=\"1\" class=\"dataframe\">\n",
       "  <thead>\n",
       "    <tr style=\"text-align: right;\">\n",
       "      <th>Year</th>\n",
       "      <th>2014</th>\n",
       "      <th>2015</th>\n",
       "      <th>2016</th>\n",
       "      <th>2017</th>\n",
       "      <th>2018</th>\n",
       "      <th>2019</th>\n",
       "      <th>Average Annual Growth</th>\n",
       "    </tr>\n",
       "    <tr>\n",
       "      <th>type</th>\n",
       "      <th></th>\n",
       "      <th></th>\n",
       "      <th></th>\n",
       "      <th></th>\n",
       "      <th></th>\n",
       "      <th></th>\n",
       "      <th></th>\n",
       "    </tr>\n",
       "  </thead>\n",
       "  <tbody>\n",
       "    <tr>\n",
       "      <th>Business association</th>\n",
       "      <td>5.005624e+06</td>\n",
       "      <td>5.002734e+06</td>\n",
       "      <td>4.911889e+06</td>\n",
       "      <td>5.212711e+06</td>\n",
       "      <td>5.250191e+06</td>\n",
       "      <td>5.183185e+06</td>\n",
       "      <td>0.007387</td>\n",
       "    </tr>\n",
       "    <tr>\n",
       "      <th>Citizen group</th>\n",
       "      <td>3.437435e+06</td>\n",
       "      <td>3.714794e+06</td>\n",
       "      <td>3.681644e+06</td>\n",
       "      <td>3.952530e+06</td>\n",
       "      <td>4.165324e+06</td>\n",
       "      <td>4.396147e+06</td>\n",
       "      <td>0.050919</td>\n",
       "    </tr>\n",
       "    <tr>\n",
       "      <th>Hybrid group</th>\n",
       "      <td>2.036727e+07</td>\n",
       "      <td>2.299263e+07</td>\n",
       "      <td>2.312911e+07</td>\n",
       "      <td>2.338749e+07</td>\n",
       "      <td>2.312468e+07</td>\n",
       "      <td>2.913666e+07</td>\n",
       "      <td>0.078950</td>\n",
       "    </tr>\n",
       "    <tr>\n",
       "      <th>Institutional group</th>\n",
       "      <td>5.411073e+06</td>\n",
       "      <td>5.594172e+06</td>\n",
       "      <td>5.649369e+06</td>\n",
       "      <td>4.770980e+06</td>\n",
       "      <td>5.588540e+06</td>\n",
       "      <td>4.202317e+06</td>\n",
       "      <td>-0.037693</td>\n",
       "    </tr>\n",
       "    <tr>\n",
       "      <th>Leisure group</th>\n",
       "      <td>1.402147e+06</td>\n",
       "      <td>1.039749e+06</td>\n",
       "      <td>7.840635e+05</td>\n",
       "      <td>7.253417e+05</td>\n",
       "      <td>9.259929e+05</td>\n",
       "      <td>8.099560e+05</td>\n",
       "      <td>-0.085589</td>\n",
       "    </tr>\n",
       "    <tr>\n",
       "      <th>Professional group</th>\n",
       "      <td>5.804241e+06</td>\n",
       "      <td>5.854695e+06</td>\n",
       "      <td>6.103843e+06</td>\n",
       "      <td>6.536583e+06</td>\n",
       "      <td>7.324977e+06</td>\n",
       "      <td>7.538869e+06</td>\n",
       "      <td>0.054391</td>\n",
       "    </tr>\n",
       "    <tr>\n",
       "      <th>Service Group</th>\n",
       "      <td>8.282297e+06</td>\n",
       "      <td>8.820936e+06</td>\n",
       "      <td>9.817583e+06</td>\n",
       "      <td>1.003675e+07</td>\n",
       "      <td>1.034288e+07</td>\n",
       "      <td>1.095614e+07</td>\n",
       "      <td>0.058028</td>\n",
       "    </tr>\n",
       "  </tbody>\n",
       "</table>\n",
       "</div>"
      ],
      "text/plain": [
       "Year                          2014          2015          2016          2017  \\\n",
       "type                                                                           \n",
       "Business association  5.005624e+06  5.002734e+06  4.911889e+06  5.212711e+06   \n",
       "Citizen group         3.437435e+06  3.714794e+06  3.681644e+06  3.952530e+06   \n",
       "Hybrid group          2.036727e+07  2.299263e+07  2.312911e+07  2.338749e+07   \n",
       "Institutional group   5.411073e+06  5.594172e+06  5.649369e+06  4.770980e+06   \n",
       "Leisure group         1.402147e+06  1.039749e+06  7.840635e+05  7.253417e+05   \n",
       "Professional group    5.804241e+06  5.854695e+06  6.103843e+06  6.536583e+06   \n",
       "Service Group         8.282297e+06  8.820936e+06  9.817583e+06  1.003675e+07   \n",
       "\n",
       "Year                          2018          2019  Average Annual Growth  \n",
       "type                                                                     \n",
       "Business association  5.250191e+06  5.183185e+06               0.007387  \n",
       "Citizen group         4.165324e+06  4.396147e+06               0.050919  \n",
       "Hybrid group          2.312468e+07  2.913666e+07               0.078950  \n",
       "Institutional group   5.588540e+06  4.202317e+06              -0.037693  \n",
       "Leisure group         9.259929e+05  8.099560e+05              -0.085589  \n",
       "Professional group    7.324977e+06  7.538869e+06               0.054391  \n",
       "Service Group         1.034288e+07  1.095614e+07               0.058028  "
      ]
     },
     "execution_count": 25,
     "metadata": {},
     "output_type": "execute_result"
    }
   ],
   "source": [
    "df_grth = df[['Total gross income', 'type','Year']]\n",
    "df_grth = df_grth.pivot_table(index = 'type', columns = 'Year', values = 'Total gross income')\n",
    "df_grth['Average Annual Growth'] = (\n",
    "    ((df_grth[2015] / df_grth[2014] - 1) +\n",
    "    (df_grth[2016] / df_grth[2015] - 1) +\n",
    "    (df_grth[2017] / df_grth[2016] - 1) +\n",
    "    (df_grth[2018] / df_grth[2017] - 1) +\n",
    "    (df_grth[2019] / df_grth[2018] - 1)) / 5)\n",
    "popmean = round(df_grth['Average Annual Growth'].mean(),3)\n",
    "print(f'Average annual growth rate is {popmean}')\n",
    "df_grth"
   ]
  },
  {
   "cell_type": "markdown",
   "id": "universal-qualification",
   "metadata": {},
   "source": [
    "### Percentage of TGI spnt on employee expenses"
   ]
  },
  {
   "cell_type": "code",
   "execution_count": 26,
   "id": "standing-blink",
   "metadata": {},
   "outputs": [
    {
     "name": "stdout",
     "output_type": "stream",
     "text": [
      "Percentage of TGI spent on employees:\n",
      "increasing trend is statistically significant\n"
     ]
    }
   ],
   "source": [
    "df_grth = df[['Percentage of TGI spent on employees', 'Year']]\n",
    "df_grth = df_grth.groupby('Year').mean().iloc[1:]\n",
    "sigtest = mk.original_test(df_grth)\n",
    "print('Percentage of TGI spent on employees:')\n",
    "if sigtest.p < 0.05:\n",
    "    print(f'{sigtest.trend} trend is statistically significant')\n",
    "else:\n",
    "    print('no statistically significant trend')"
   ]
  },
  {
   "cell_type": "code",
   "execution_count": 27,
   "id": "fixed-webcam",
   "metadata": {},
   "outputs": [
    {
     "name": "stdout",
     "output_type": "stream",
     "text": [
      "Average annual growth rate is 0.032\n"
     ]
    },
    {
     "data": {
      "text/html": [
       "<div>\n",
       "<style scoped>\n",
       "    .dataframe tbody tr th:only-of-type {\n",
       "        vertical-align: middle;\n",
       "    }\n",
       "\n",
       "    .dataframe tbody tr th {\n",
       "        vertical-align: top;\n",
       "    }\n",
       "\n",
       "    .dataframe thead th {\n",
       "        text-align: right;\n",
       "    }\n",
       "</style>\n",
       "<table border=\"1\" class=\"dataframe\">\n",
       "  <thead>\n",
       "    <tr style=\"text-align: right;\">\n",
       "      <th>Year</th>\n",
       "      <th>2014</th>\n",
       "      <th>2015</th>\n",
       "      <th>2016</th>\n",
       "      <th>2017</th>\n",
       "      <th>2018</th>\n",
       "      <th>2019</th>\n",
       "      <th>Average Annual Growth</th>\n",
       "    </tr>\n",
       "    <tr>\n",
       "      <th>type</th>\n",
       "      <th></th>\n",
       "      <th></th>\n",
       "      <th></th>\n",
       "      <th></th>\n",
       "      <th></th>\n",
       "      <th></th>\n",
       "      <th></th>\n",
       "    </tr>\n",
       "  </thead>\n",
       "  <tbody>\n",
       "    <tr>\n",
       "      <th>Business association</th>\n",
       "      <td>0.302067</td>\n",
       "      <td>0.347341</td>\n",
       "      <td>0.352757</td>\n",
       "      <td>0.352673</td>\n",
       "      <td>0.342394</td>\n",
       "      <td>0.343885</td>\n",
       "      <td>0.028088</td>\n",
       "    </tr>\n",
       "    <tr>\n",
       "      <th>Citizen group</th>\n",
       "      <td>0.373248</td>\n",
       "      <td>0.346766</td>\n",
       "      <td>0.379063</td>\n",
       "      <td>0.444457</td>\n",
       "      <td>0.382676</td>\n",
       "      <td>0.447796</td>\n",
       "      <td>0.045174</td>\n",
       "    </tr>\n",
       "    <tr>\n",
       "      <th>Hybrid group</th>\n",
       "      <td>0.339454</td>\n",
       "      <td>0.322019</td>\n",
       "      <td>0.305784</td>\n",
       "      <td>0.358993</td>\n",
       "      <td>0.330504</td>\n",
       "      <td>0.343950</td>\n",
       "      <td>0.006711</td>\n",
       "    </tr>\n",
       "    <tr>\n",
       "      <th>Institutional group</th>\n",
       "      <td>0.390762</td>\n",
       "      <td>0.394214</td>\n",
       "      <td>0.341431</td>\n",
       "      <td>0.376825</td>\n",
       "      <td>0.413073</td>\n",
       "      <td>0.447730</td>\n",
       "      <td>0.031739</td>\n",
       "    </tr>\n",
       "    <tr>\n",
       "      <th>Leisure group</th>\n",
       "      <td>0.179083</td>\n",
       "      <td>0.220845</td>\n",
       "      <td>0.194987</td>\n",
       "      <td>0.222887</td>\n",
       "      <td>0.174729</td>\n",
       "      <td>0.187978</td>\n",
       "      <td>0.023791</td>\n",
       "    </tr>\n",
       "    <tr>\n",
       "      <th>Professional group</th>\n",
       "      <td>0.319912</td>\n",
       "      <td>0.370737</td>\n",
       "      <td>0.368018</td>\n",
       "      <td>0.401069</td>\n",
       "      <td>0.397405</td>\n",
       "      <td>0.441954</td>\n",
       "      <td>0.068862</td>\n",
       "    </tr>\n",
       "    <tr>\n",
       "      <th>Service Group</th>\n",
       "      <td>0.330760</td>\n",
       "      <td>0.328294</td>\n",
       "      <td>0.326060</td>\n",
       "      <td>0.323992</td>\n",
       "      <td>0.334779</td>\n",
       "      <td>0.360183</td>\n",
       "      <td>0.017715</td>\n",
       "    </tr>\n",
       "  </tbody>\n",
       "</table>\n",
       "</div>"
      ],
      "text/plain": [
       "Year                      2014      2015      2016      2017      2018  \\\n",
       "type                                                                     \n",
       "Business association  0.302067  0.347341  0.352757  0.352673  0.342394   \n",
       "Citizen group         0.373248  0.346766  0.379063  0.444457  0.382676   \n",
       "Hybrid group          0.339454  0.322019  0.305784  0.358993  0.330504   \n",
       "Institutional group   0.390762  0.394214  0.341431  0.376825  0.413073   \n",
       "Leisure group         0.179083  0.220845  0.194987  0.222887  0.174729   \n",
       "Professional group    0.319912  0.370737  0.368018  0.401069  0.397405   \n",
       "Service Group         0.330760  0.328294  0.326060  0.323992  0.334779   \n",
       "\n",
       "Year                      2019  Average Annual Growth  \n",
       "type                                                   \n",
       "Business association  0.343885               0.028088  \n",
       "Citizen group         0.447796               0.045174  \n",
       "Hybrid group          0.343950               0.006711  \n",
       "Institutional group   0.447730               0.031739  \n",
       "Leisure group         0.187978               0.023791  \n",
       "Professional group    0.441954               0.068862  \n",
       "Service Group         0.360183               0.017715  "
      ]
     },
     "execution_count": 27,
     "metadata": {},
     "output_type": "execute_result"
    }
   ],
   "source": [
    "\n",
    "df_grth = df[['Percentage of TGI spent on employees', 'type','Year']]\n",
    "df_grth = df_grth.pivot_table(index = 'type', columns = 'Year', values = 'Percentage of TGI spent on employees')\n",
    "df_grth['Average Annual Growth'] = (\n",
    "    ((df_grth[2015] / df_grth[2014] - 1) +\n",
    "    (df_grth[2016] / df_grth[2015] - 1) +\n",
    "    (df_grth[2017] / df_grth[2016] - 1) +\n",
    "    (df_grth[2018] / df_grth[2017] - 1) +\n",
    "    (df_grth[2019] / df_grth[2018] - 1)) / 5)\n",
    "popmean = round(df_grth['Average Annual Growth'].mean(),3)\n",
    "print(f'Average annual growth rate is {popmean}')\n",
    "df_grth"
   ]
  },
  {
   "cell_type": "code",
   "execution_count": 28,
   "id": "fleet-shaft",
   "metadata": {},
   "outputs": [
    {
     "name": "stdout",
     "output_type": "stream",
     "text": [
      "P value:\n"
     ]
    },
    {
     "data": {
      "text/plain": [
       "0.018860940911020325"
      ]
     },
     "execution_count": 28,
     "metadata": {},
     "output_type": "execute_result"
    }
   ],
   "source": [
    "# Conducting a t-test, just wanted to doubly check that increase was statistically significant\n",
    "df_2014_tgi = df[df.loc[:,'Year'] == 2014]\n",
    "df_2019_tgi = df[df.loc[:,'Year'] == 2019]\n",
    "\n",
    "t,p = stats.ttest_ind(\n",
    "    df_2014_tgi['Percentage of TGI spent on employees'],\n",
    "    df_2019_tgi['Percentage of TGI spent on employees'],\n",
    "    nan_policy = 'omit')\n",
    "\n",
    "print('P value:')\n",
    "p"
   ]
  },
  {
   "cell_type": "code",
   "execution_count": 29,
   "id": "welcome-blanket",
   "metadata": {},
   "outputs": [
    {
     "name": "stdout",
     "output_type": "stream",
     "text": [
      "Mean % of TGI on Employees in 2014: 0.331\n",
      "Mean % of TGI on Employees in 2019: 0.391\n"
     ]
    }
   ],
   "source": [
    "print(f'Mean % of TGI on Employees in 2014: {round(df_2014_tgi[\"Percentage of TGI spent on employees\"].mean(),3)}')\n",
    "print(f'Mean % of TGI on Employees in 2019: {round(df_2019_tgi[\"Percentage of TGI spent on employees\"].mean(),3)}')"
   ]
  },
  {
   "cell_type": "markdown",
   "id": "educated-clone",
   "metadata": {},
   "source": [
    "# Looking into relationship between group age and staff"
   ]
  },
  {
   "cell_type": "code",
   "execution_count": 30,
   "id": "recovered-promise",
   "metadata": {
    "scrolled": true
   },
   "outputs": [],
   "source": [
    "# Grouping by year formed\n",
    "df_formed = df.dropna(axis =0,subset =['formed_combined2'])\n",
    "df_formed['formed_combined2'] = df_formed['formed_combined2'].astype(int)\n",
    "df_formed['Formed Range'] = pd.qcut(df_formed['formed_combined2'], q=6, precision = 0)\n"
   ]
  },
  {
   "cell_type": "code",
   "execution_count": 31,
   "id": "variable-anchor",
   "metadata": {},
   "outputs": [
    {
     "data": {
      "text/plain": [
       "<AxesSubplot:xlabel='Formed Range', ylabel='Percentage of TGI spent on employees'>"
      ]
     },
     "execution_count": 31,
     "metadata": {},
     "output_type": "execute_result"
    },
    {
     "data": {
      "image/png": "[encoded data removed]",
      "text/plain": [
       "<Figure size 1152x1152 with 3 Axes>"
      ]
     },
     "metadata": {
      "needs_background": "light"
     },
     "output_type": "display_data"
    }
   ],
   "source": [
    "# Plotting by group age\n",
    "plt.figure(figsize = (16,16))\n",
    "plt.subplot(3,1,1)\n",
    "sns.barplot(x = 'Formed Range', y ='Full time staff', data = df_formed[df_formed.loc[:,'Year'] == 2019])\n",
    "plt.subplot(3,1,2)\n",
    "sns.barplot(x = 'Formed Range', y ='Total gross income', data = df_formed[df_formed.loc[:,'Year'] == 2019])\n",
    "plt.subplot(3,1,3)\n",
    "sns.barplot(x = 'Formed Range', y ='Percentage of TGI spent on employees', data = df_formed[df_formed.loc[:,'Year'] == 2019])"
   ]
  }
 ],
 "metadata": {
  "kernelspec": {
   "display_name": "Python 3",
   "language": "python",
   "name": "python3"
  },
  "language_info": {
   "codemirror_mode": {
    "name": "ipython",
    "version": 3
   },
   "file_extension": ".py",
   "mimetype": "text/x-python",
   "name": "python",
   "nbconvert_exporter": "python",
   "pygments_lexer": "ipython3",
   "version": "3.7.4"
  }
 },
 "nbformat": 4,
 "nbformat_minor": 5
}
